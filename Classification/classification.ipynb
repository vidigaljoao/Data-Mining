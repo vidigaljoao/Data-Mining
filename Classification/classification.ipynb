{
 "cells": [
  {
   "cell_type": "markdown",
   "metadata": {},
   "source": [
    "# Project 3 - Classification \n",
    "\n",
    "### by João Vidigal"
   ]
  },
  {
   "cell_type": "markdown",
   "metadata": {},
   "source": [
    "## Dataset and Tools\n",
    "\n",
    "The dataset to be analysed is again **`AML_ALL_PATIENTS_GENES_LARGE.csv`, already used in Project 1- Clustering. We will now use it for Classification.** As you remember, this is a modified version of the widely studied **Leukemia dataset**, originally published by Golub et al. (1999) [\"Molecular Classification of Cancer: Class Discovery and Class Prediction by Gene\n",
    "Expression Monitoring\"](http://archive.broadinstitute.org/mpr/publications/projects/Leukemia/Golub_et_al_1999.pdf.) \n",
    "\n",
    "**This dataset studies patients with two different types of leukaemia: acute myeloid leukemia (AML) and acute lymphoblastic leukemia (ALL). The data analyzed here contains the expression levels of 5147 Human genes (features/columns) analyzed in 72 patients (rows): 47 ALL and 25 AML.**\n",
    "\n",
    "Each row identifies a patient: The first column, `PATIENT_ID`, contains the patients' IDs , the second column, `PATIENT_DIAGNOSIS`, contains the initial diagnosis as performed by clinicians (ground truth), and the remaining 3051 columns contain the expression levels of the 3051 genes analysed.\n",
    "\n",
    "**The goal is to learn to classify patients as AML or ALL.**\n"
   ]
  },
  {
   "cell_type": "markdown",
   "metadata": {},
   "source": [
    "## 1. Load and Preprocess Dataset"
   ]
  },
  {
   "cell_type": "markdown",
   "metadata": {},
   "source": [
    "After loading the dataset you should have:\n",
    "* a 72 rows × 5147 columns matrix, **X**, containing the values of the 5147 features for each of the 72 patients.\n",
    "* a vector, **y**, with the 72 diagnosis, which will be used to train the classifiers."
   ]
  },
  {
   "cell_type": "markdown",
   "metadata": {},
   "source": [
    "### 1.1. Import libraries"
   ]
  },
  {
   "cell_type": "code",
   "execution_count": null,
   "metadata": {},
   "outputs": [],
   "source": [
    "!pip install -U imbalanced-learn"
   ]
  },
  {
   "cell_type": "code",
   "execution_count": 1,
   "metadata": {},
   "outputs": [
    {
     "name": "stdout",
     "output_type": "stream",
     "text": [
      "The autoreload extension is already loaded. To reload it, use:\n",
      "  %reload_ext autoreload\n"
     ]
    }
   ],
   "source": [
    "%load_ext autoreload\n",
    "%autoreload 2\n",
    "\n",
    "%matplotlib inline"
   ]
  },
  {
   "cell_type": "code",
   "execution_count": 3,
   "metadata": {},
   "outputs": [],
   "source": [
    "import pandas as pd\n",
    "import numpy as np\n",
    "import matplotlib.pyplot as plt\n",
    "import seaborn as sns\n",
    "\n",
    "from my_funct import *"
   ]
  },
  {
   "cell_type": "markdown",
   "metadata": {},
   "source": [
    "### 1.2. Load data and exploratory data analysis"
   ]
  },
  {
   "cell_type": "code",
   "execution_count": 4,
   "metadata": {},
   "outputs": [
    {
     "data": {
      "text/html": [
       "<div>\n",
       "<style scoped>\n",
       "    .dataframe tbody tr th:only-of-type {\n",
       "        vertical-align: middle;\n",
       "    }\n",
       "\n",
       "    .dataframe tbody tr th {\n",
       "        vertical-align: top;\n",
       "    }\n",
       "\n",
       "    .dataframe thead th {\n",
       "        text-align: right;\n",
       "    }\n",
       "</style>\n",
       "<table border=\"1\" class=\"dataframe\">\n",
       "  <thead>\n",
       "    <tr style=\"text-align: right;\">\n",
       "      <th></th>\n",
       "      <th>PATIENT_ID</th>\n",
       "      <th>PATIENT_DIAGNOSIS</th>\n",
       "      <th>AFFX-BioC-5_at</th>\n",
       "      <th>hum_alu_at</th>\n",
       "      <th>AFFX-DapX-M_at</th>\n",
       "      <th>AFFX-LysX-5_at</th>\n",
       "      <th>AFFX-HUMISGF3A/M97935_MA_at</th>\n",
       "      <th>AFFX-HUMISGF3A/M97935_MB_at</th>\n",
       "      <th>AFFX-HUMISGF3A/M97935_3_at</th>\n",
       "      <th>AFFX-HUMRGE/M10098_5_at</th>\n",
       "      <th>AFFX-HUMRGE/M10098_M_at</th>\n",
       "      <th>AFFX-HUMRGE/M10098_3_at</th>\n",
       "      <th>AFFX-HUMGAPDH/M33197_5_at</th>\n",
       "      <th>AFFX-HUMGAPDH/M33197_M_at</th>\n",
       "      <th>AFFX-HUMGAPDH/M33197_3_at</th>\n",
       "      <th>...</th>\n",
       "      <th>D64015_at</th>\n",
       "      <th>L10717_at</th>\n",
       "      <th>L78833_cds4_at</th>\n",
       "      <th>M13981_at</th>\n",
       "      <th>M21064_at</th>\n",
       "      <th>M93143_at</th>\n",
       "      <th>U29175_at</th>\n",
       "      <th>U48730_at</th>\n",
       "      <th>U58516_at</th>\n",
       "      <th>X06956_at</th>\n",
       "      <th>X83863_at</th>\n",
       "      <th>Z17240_at</th>\n",
       "      <th>L49218_f_at</th>\n",
       "      <th>M71243_f_at</th>\n",
       "      <th>Z78285_f_at</th>\n",
       "    </tr>\n",
       "  </thead>\n",
       "  <tbody>\n",
       "    <tr>\n",
       "      <th>0</th>\n",
       "      <td>1</td>\n",
       "      <td>ALL</td>\n",
       "      <td>-0.912181</td>\n",
       "      <td>-0.936280</td>\n",
       "      <td>1.330679</td>\n",
       "      <td>0.045416</td>\n",
       "      <td>0.236442</td>\n",
       "      <td>0.196788</td>\n",
       "      <td>0.244435</td>\n",
       "      <td>2.561725</td>\n",
       "      <td>2.489963</td>\n",
       "      <td>1.794520</td>\n",
       "      <td>-0.029645</td>\n",
       "      <td>-0.528565</td>\n",
       "      <td>-0.203529</td>\n",
       "      <td>...</td>\n",
       "      <td>0.266795</td>\n",
       "      <td>0.343097</td>\n",
       "      <td>0.685649</td>\n",
       "      <td>-0.529272</td>\n",
       "      <td>0.582380</td>\n",
       "      <td>0.428940</td>\n",
       "      <td>1.018678</td>\n",
       "      <td>0.103263</td>\n",
       "      <td>-0.518375</td>\n",
       "      <td>0.019140</td>\n",
       "      <td>0.027771</td>\n",
       "      <td>0.122186</td>\n",
       "      <td>0.593119</td>\n",
       "      <td>-0.391378</td>\n",
       "      <td>-0.161117</td>\n",
       "    </tr>\n",
       "    <tr>\n",
       "      <th>1</th>\n",
       "      <td>2</td>\n",
       "      <td>ALL</td>\n",
       "      <td>0.842926</td>\n",
       "      <td>-1.311323</td>\n",
       "      <td>-0.067011</td>\n",
       "      <td>-0.964423</td>\n",
       "      <td>-0.224387</td>\n",
       "      <td>-0.200579</td>\n",
       "      <td>-0.371600</td>\n",
       "      <td>-0.417306</td>\n",
       "      <td>-0.408754</td>\n",
       "      <td>-0.002931</td>\n",
       "      <td>0.698765</td>\n",
       "      <td>0.035392</td>\n",
       "      <td>-0.122523</td>\n",
       "      <td>...</td>\n",
       "      <td>-0.036600</td>\n",
       "      <td>2.472667</td>\n",
       "      <td>-0.342349</td>\n",
       "      <td>-1.342015</td>\n",
       "      <td>-0.747800</td>\n",
       "      <td>-0.425219</td>\n",
       "      <td>-0.474402</td>\n",
       "      <td>-0.067901</td>\n",
       "      <td>0.555431</td>\n",
       "      <td>0.160143</td>\n",
       "      <td>0.003223</td>\n",
       "      <td>-0.043618</td>\n",
       "      <td>0.032103</td>\n",
       "      <td>-0.576990</td>\n",
       "      <td>0.415146</td>\n",
       "    </tr>\n",
       "    <tr>\n",
       "      <th>2</th>\n",
       "      <td>3</td>\n",
       "      <td>ALL</td>\n",
       "      <td>1.076941</td>\n",
       "      <td>-0.788133</td>\n",
       "      <td>1.859748</td>\n",
       "      <td>1.151430</td>\n",
       "      <td>0.498175</td>\n",
       "      <td>1.244393</td>\n",
       "      <td>1.390191</td>\n",
       "      <td>0.664072</td>\n",
       "      <td>0.542223</td>\n",
       "      <td>0.548277</td>\n",
       "      <td>2.025297</td>\n",
       "      <td>0.771630</td>\n",
       "      <td>1.078831</td>\n",
       "      <td>...</td>\n",
       "      <td>0.830244</td>\n",
       "      <td>0.725328</td>\n",
       "      <td>1.561351</td>\n",
       "      <td>3.598365</td>\n",
       "      <td>0.224255</td>\n",
       "      <td>2.304741</td>\n",
       "      <td>-0.273350</td>\n",
       "      <td>1.493964</td>\n",
       "      <td>1.747818</td>\n",
       "      <td>-0.568816</td>\n",
       "      <td>0.797680</td>\n",
       "      <td>2.306901</td>\n",
       "      <td>0.705322</td>\n",
       "      <td>-0.331659</td>\n",
       "      <td>-0.261337</td>\n",
       "    </tr>\n",
       "    <tr>\n",
       "      <th>3</th>\n",
       "      <td>4</td>\n",
       "      <td>ALL</td>\n",
       "      <td>-1.596222</td>\n",
       "      <td>-0.874097</td>\n",
       "      <td>0.991127</td>\n",
       "      <td>0.574379</td>\n",
       "      <td>-0.065558</td>\n",
       "      <td>-0.044040</td>\n",
       "      <td>-0.402063</td>\n",
       "      <td>0.488835</td>\n",
       "      <td>0.247321</td>\n",
       "      <td>0.266520</td>\n",
       "      <td>-0.055635</td>\n",
       "      <td>-0.456281</td>\n",
       "      <td>-0.240105</td>\n",
       "      <td>...</td>\n",
       "      <td>-0.608718</td>\n",
       "      <td>-0.596098</td>\n",
       "      <td>0.632346</td>\n",
       "      <td>0.210415</td>\n",
       "      <td>0.623308</td>\n",
       "      <td>-0.000930</td>\n",
       "      <td>-0.288936</td>\n",
       "      <td>0.691636</td>\n",
       "      <td>0.548844</td>\n",
       "      <td>-0.552853</td>\n",
       "      <td>-0.342677</td>\n",
       "      <td>-0.653193</td>\n",
       "      <td>-1.336776</td>\n",
       "      <td>-0.496289</td>\n",
       "      <td>-1.514082</td>\n",
       "    </tr>\n",
       "    <tr>\n",
       "      <th>4</th>\n",
       "      <td>5</td>\n",
       "      <td>ALL</td>\n",
       "      <td>-0.192137</td>\n",
       "      <td>-0.655253</td>\n",
       "      <td>-0.193356</td>\n",
       "      <td>-0.651854</td>\n",
       "      <td>0.142487</td>\n",
       "      <td>-0.176496</td>\n",
       "      <td>-0.286980</td>\n",
       "      <td>-0.274163</td>\n",
       "      <td>0.379259</td>\n",
       "      <td>-0.311094</td>\n",
       "      <td>-0.100120</td>\n",
       "      <td>0.373027</td>\n",
       "      <td>-0.301228</td>\n",
       "      <td>...</td>\n",
       "      <td>-1.102819</td>\n",
       "      <td>-0.355838</td>\n",
       "      <td>-0.761163</td>\n",
       "      <td>-0.437953</td>\n",
       "      <td>-0.839889</td>\n",
       "      <td>-0.721104</td>\n",
       "      <td>-0.471285</td>\n",
       "      <td>-0.206971</td>\n",
       "      <td>-0.063819</td>\n",
       "      <td>0.325090</td>\n",
       "      <td>-1.183998</td>\n",
       "      <td>0.049037</td>\n",
       "      <td>0.099424</td>\n",
       "      <td>-0.609271</td>\n",
       "      <td>0.139542</td>\n",
       "    </tr>\n",
       "  </tbody>\n",
       "</table>\n",
       "<p>5 rows × 5149 columns</p>\n",
       "</div>"
      ],
      "text/plain": [
       "   PATIENT_ID PATIENT_DIAGNOSIS  AFFX-BioC-5_at  hum_alu_at  AFFX-DapX-M_at  \\\n",
       "0           1               ALL       -0.912181   -0.936280        1.330679   \n",
       "1           2               ALL        0.842926   -1.311323       -0.067011   \n",
       "2           3               ALL        1.076941   -0.788133        1.859748   \n",
       "3           4               ALL       -1.596222   -0.874097        0.991127   \n",
       "4           5               ALL       -0.192137   -0.655253       -0.193356   \n",
       "\n",
       "   AFFX-LysX-5_at  AFFX-HUMISGF3A/M97935_MA_at  AFFX-HUMISGF3A/M97935_MB_at  \\\n",
       "0        0.045416                     0.236442                     0.196788   \n",
       "1       -0.964423                    -0.224387                    -0.200579   \n",
       "2        1.151430                     0.498175                     1.244393   \n",
       "3        0.574379                    -0.065558                    -0.044040   \n",
       "4       -0.651854                     0.142487                    -0.176496   \n",
       "\n",
       "   AFFX-HUMISGF3A/M97935_3_at  AFFX-HUMRGE/M10098_5_at  \\\n",
       "0                    0.244435                 2.561725   \n",
       "1                   -0.371600                -0.417306   \n",
       "2                    1.390191                 0.664072   \n",
       "3                   -0.402063                 0.488835   \n",
       "4                   -0.286980                -0.274163   \n",
       "\n",
       "   AFFX-HUMRGE/M10098_M_at  AFFX-HUMRGE/M10098_3_at  \\\n",
       "0                 2.489963                 1.794520   \n",
       "1                -0.408754                -0.002931   \n",
       "2                 0.542223                 0.548277   \n",
       "3                 0.247321                 0.266520   \n",
       "4                 0.379259                -0.311094   \n",
       "\n",
       "   AFFX-HUMGAPDH/M33197_5_at  AFFX-HUMGAPDH/M33197_M_at  \\\n",
       "0                  -0.029645                  -0.528565   \n",
       "1                   0.698765                   0.035392   \n",
       "2                   2.025297                   0.771630   \n",
       "3                  -0.055635                  -0.456281   \n",
       "4                  -0.100120                   0.373027   \n",
       "\n",
       "   AFFX-HUMGAPDH/M33197_3_at  ...  D64015_at  L10717_at  L78833_cds4_at  \\\n",
       "0                  -0.203529  ...   0.266795   0.343097        0.685649   \n",
       "1                  -0.122523  ...  -0.036600   2.472667       -0.342349   \n",
       "2                   1.078831  ...   0.830244   0.725328        1.561351   \n",
       "3                  -0.240105  ...  -0.608718  -0.596098        0.632346   \n",
       "4                  -0.301228  ...  -1.102819  -0.355838       -0.761163   \n",
       "\n",
       "   M13981_at  M21064_at  M93143_at  U29175_at  U48730_at  U58516_at  \\\n",
       "0  -0.529272   0.582380   0.428940   1.018678   0.103263  -0.518375   \n",
       "1  -1.342015  -0.747800  -0.425219  -0.474402  -0.067901   0.555431   \n",
       "2   3.598365   0.224255   2.304741  -0.273350   1.493964   1.747818   \n",
       "3   0.210415   0.623308  -0.000930  -0.288936   0.691636   0.548844   \n",
       "4  -0.437953  -0.839889  -0.721104  -0.471285  -0.206971  -0.063819   \n",
       "\n",
       "   X06956_at  X83863_at  Z17240_at  L49218_f_at  M71243_f_at  Z78285_f_at  \n",
       "0   0.019140   0.027771   0.122186     0.593119    -0.391378    -0.161117  \n",
       "1   0.160143   0.003223  -0.043618     0.032103    -0.576990     0.415146  \n",
       "2  -0.568816   0.797680   2.306901     0.705322    -0.331659    -0.261337  \n",
       "3  -0.552853  -0.342677  -0.653193    -1.336776    -0.496289    -1.514082  \n",
       "4   0.325090  -1.183998   0.049037     0.099424    -0.609271     0.139542  \n",
       "\n",
       "[5 rows x 5149 columns]"
      ]
     },
     "execution_count": 4,
     "metadata": {},
     "output_type": "execute_result"
    }
   ],
   "source": [
    "data = pd.read_csv('AML_ALL_PATIENTS_GENES_LARGE.csv')\n",
    "data.head()"
   ]
  },
  {
   "cell_type": "code",
   "execution_count": 5,
   "metadata": {},
   "outputs": [
    {
     "name": "stdout",
     "output_type": "stream",
     "text": [
      "<class 'pandas.core.frame.DataFrame'>\n",
      "RangeIndex: 72 entries, 0 to 71\n",
      "Columns: 5149 entries, PATIENT_ID to Z78285_f_at\n",
      "dtypes: float64(5147), int64(1), object(1)\n",
      "memory usage: 2.8+ MB\n"
     ]
    }
   ],
   "source": [
    "data.info() # info about the df (like dtype and memory usage)."
   ]
  },
  {
   "cell_type": "markdown",
   "metadata": {},
   "source": [
    "### How unbalanced is the data?"
   ]
  },
  {
   "cell_type": "code",
   "execution_count": 6,
   "metadata": {},
   "outputs": [
    {
     "data": {
      "text/plain": [
       "<matplotlib.axes._subplots.AxesSubplot at 0x7fa984ee7eb8>"
      ]
     },
     "execution_count": 6,
     "metadata": {},
     "output_type": "execute_result"
    },
    {
     "data": {
      "image/png": "[encoded data removed]",
      "text/plain": [
       "<Figure size 432x288 with 1 Axes>"
      ]
     },
     "metadata": {
      "needs_background": "light"
     },
     "output_type": "display_data"
    }
   ],
   "source": [
    "data[['PATIENT_ID','PATIENT_DIAGNOSIS']].groupby(['PATIENT_DIAGNOSIS']).count().plot(kind='bar', legend=False)"
   ]
  },
  {
   "cell_type": "markdown",
   "metadata": {},
   "source": [
    "The data is clearly imbalanced with ALL being the majority class"
   ]
  },
  {
   "cell_type": "markdown",
   "metadata": {},
   "source": [
    "### 1.3.3. Split the dataset into the input (X) and output variables (Y)\n",
    "\n",
    "The first thing is to assign X and Y. Data assigned as an X array is what produces decisions encoded in the Y array."
   ]
  },
  {
   "cell_type": "code",
   "execution_count": 7,
   "metadata": {},
   "outputs": [],
   "source": [
    "data_df = data.set_index('PATIENT_ID')\n",
    "X_data, Y_data = data_df.drop('PATIENT_DIAGNOSIS', axis=1).to_numpy(), data_df['PATIENT_DIAGNOSIS'].to_numpy()"
   ]
  },
  {
   "cell_type": "markdown",
   "metadata": {},
   "source": [
    "### Imbalanced-learn module\n",
    "\n",
    "A python library  compatible with scikit-learn that provides a wide range of\n",
    "resampling methods to cope with the problem of imbalanced dataset.\n",
    "\n",
    "A widely adopted technique for dealing with highly unbalanced datasets is called resampling. It consists of removing samples from the majority class (under-sampling) and / or adding more examples from the minority class (over-sampling).\n",
    "\n",
    "However, because we have a so few patient data we are going to over-sample the minority class."
   ]
  },
  {
   "cell_type": "markdown",
   "metadata": {},
   "source": [
    "#### Over-sampling: SMOTE\n",
    "SMOTE (Synthetic Minority Oversampling TEchnique) consists of synthesizing elements for the minority class, based on those that already exist. It works randomly picking a point from the minority class and computing the k-nearest neighbors for this point. The synthetic points are added between the chosen point and its neighbors."
   ]
  },
  {
   "cell_type": "code",
   "execution_count": 8,
   "metadata": {},
   "outputs": [],
   "source": [
    "from imblearn.over_sampling import SMOTE\n",
    "\n",
    "smote = SMOTE(ratio='minority')\n",
    "X_sm, y_sm = smote.fit_sample(X_data, Y_data)"
   ]
  },
  {
   "cell_type": "markdown",
   "metadata": {},
   "source": [
    "## 2. Learning Simple Classifiers using Cross-Validation\n",
    "\n",
    "* We Choose **3 classifiers** (https://scikit-learn.org/stable/supervised_learning.html#supervised-learning) to compare. Logistic regression, decision tree and support vector machines.\n",
    "* To estimate the best parameters we used **grid-search and stratified 10 fold cross-validation** (https://scikit-learn.org/stable/model_selection.html#model-selection). \n",
    "* We used the mean and standard deviation of the accuracy, precision and recall in both train and test as evaluation metrics. Also, the confusion matrices."
   ]
  },
  {
   "cell_type": "markdown",
   "metadata": {},
   "source": [
    "### Logistic regression"
   ]
  },
  {
   "cell_type": "code",
   "execution_count": 9,
   "metadata": {},
   "outputs": [],
   "source": [
    "from sklearn.linear_model import LogisticRegression\n",
    "logreg = LogisticRegression()"
   ]
  },
  {
   "cell_type": "markdown",
   "metadata": {},
   "source": [
    "#### With the original umbalanced data:"
   ]
  },
  {
   "cell_type": "code",
   "execution_count": 10,
   "metadata": {},
   "outputs": [
    {
     "name": "stdout",
     "output_type": "stream",
     "text": [
      "Accuracy score:  0.915 +- 0.071\n",
      "Precision score: 0.917 +- 0.072\n",
      "Recall: 0.928 +- 0.061\n",
      "Confusion matrix:\n"
     ]
    },
    {
     "data": {
      "image/png": "[encoded data removed]",
      "text/plain": [
       "<Figure size 144x108 with 2 Axes>"
      ]
     },
     "metadata": {
      "needs_background": "light"
     },
     "output_type": "display_data"
    }
   ],
   "source": [
    "report(logreg, X_data, Y_data)"
   ]
  },
  {
   "cell_type": "markdown",
   "metadata": {},
   "source": [
    "#### Already with balanced data:"
   ]
  },
  {
   "cell_type": "code",
   "execution_count": 11,
   "metadata": {},
   "outputs": [
    {
     "name": "stdout",
     "output_type": "stream",
     "text": [
      "Accuracy score:  0.957 +- 0.052\n",
      "Precision score: 0.965 +- 0.043\n",
      "Recall: 0.957 +- 0.052\n",
      "Confusion matrix:\n"
     ]
    },
    {
     "data": {
      "image/png": "[encoded data removed]",
      "text/plain": [
       "<Figure size 144x108 with 2 Axes>"
      ]
     },
     "metadata": {
      "needs_background": "light"
     },
     "output_type": "display_data"
    }
   ],
   "source": [
    "report(logreg, X_sm, y_sm)"
   ]
  },
  {
   "cell_type": "markdown",
   "metadata": {},
   "source": [
    "#### Grid search cross validation to find the best hyperparameters"
   ]
  },
  {
   "cell_type": "code",
   "execution_count": 12,
   "metadata": {},
   "outputs": [
    {
     "name": "stdout",
     "output_type": "stream",
     "text": [
      "Tuned hyperparameters:  {'C': 46.41588833612782, 'penalty': 'l1'}\n",
      "Accuracy score:  0.978 +- 0.045\n",
      "Precision score: 0.982 +- 0.037\n",
      "Recall: 0.978 +- 0.045\n",
      "Confusion matrix:\n",
      "CPU times: user 3.02 s, sys: 436 ms, total: 3.45 s\n",
      "Wall time: 11.6 s\n"
     ]
    },
    {
     "data": {
      "image/png": "[encoded data removed]",
      "text/plain": [
       "<Figure size 144x108 with 2 Axes>"
      ]
     },
     "metadata": {
      "needs_background": "light"
     },
     "output_type": "display_data"
    }
   ],
   "source": [
    "%%time\n",
    "# Grid search cross validation\n",
    "from sklearn.model_selection import GridSearchCV\n",
    "from sklearn.externals import joblib\n",
    "from joblib import dump, load\n",
    "logreg_grid={\"C\":np.logspace(-5,5,10), \"penalty\":[\"l1\",\"l2\"]}# l1 lasso l2 ridge\n",
    "logreg_cv=GridSearchCV(logreg,logreg_grid,cv=3,n_jobs=-1)\n",
    "report(logreg_cv, X_sm, y_sm, GS=True)"
   ]
  },
  {
   "cell_type": "code",
   "execution_count": 13,
   "metadata": {},
   "outputs": [],
   "source": [
    "#load ML models with joblib\n",
    "logreg_best= joblib.load('filename.joblib')"
   ]
  },
  {
   "cell_type": "markdown",
   "metadata": {},
   "source": [
    "### Discussion:\n",
    "\n",
    "Logistic regression performs binary classification, so the label outputs are binary. Although other techniques have higher efficiency, logistic regression is still one of the most used algorithms for solving industry scale problems. This is probably because it still is one of the simplest and easiest classification methods, without the need to tune many hyperparameters.\n",
    "\n",
    "When comparing imbalanced with balanced data, we get definitely better results with the balanced one. So, from now on, this will be the starting point when comparing the different models. \n",
    "\n",
    "However, the best results were obtained with hyperparameters tuning; being the tuned parameters {'C': 3.593813663804626, 'penalty': 'l1'} with scores of:\n",
    "\n",
    "Accuracy score:  0.99 +- 0.03\n",
    "\n",
    "Precision score: 0.992 +- 0.025\n",
    "\n",
    "Recall: 0.99 +- 0.03\n",
    "\n",
    "So, logistic regression is good for classification problems where classes are approximately linearly separable, as we seem to have in this dataset. "
   ]
  },
  {
   "cell_type": "markdown",
   "metadata": {},
   "source": [
    "### Decision trees"
   ]
  },
  {
   "cell_type": "code",
   "execution_count": 14,
   "metadata": {},
   "outputs": [
    {
     "name": "stdout",
     "output_type": "stream",
     "text": [
      "Accuracy score:  0.893 +- 0.096\n",
      "Precision score: 0.911 +- 0.084\n",
      "Recall: 0.893 +- 0.096\n",
      "Confusion matrix:\n"
     ]
    },
    {
     "data": {
      "image/png": "[encoded data removed]",
      "text/plain": [
       "<Figure size 144x108 with 2 Axes>"
      ]
     },
     "metadata": {
      "needs_background": "light"
     },
     "output_type": "display_data"
    }
   ],
   "source": [
    "from sklearn import tree\n",
    "dtree = tree.DecisionTreeClassifier()\n",
    "report(logreg, X_sm, y_sm)"
   ]
  },
  {
   "cell_type": "code",
   "execution_count": 15,
   "metadata": {},
   "outputs": [
    {
     "data": {
      "text/plain": [
       "<bound method BaseEstimator.get_params of DecisionTreeClassifier(class_weight=None, criterion='gini', max_depth=None,\n",
       "            max_features=None, max_leaf_nodes=None,\n",
       "            min_impurity_decrease=0.0, min_impurity_split=None,\n",
       "            min_samples_leaf=1, min_samples_split=2,\n",
       "            min_weight_fraction_leaf=0.0, presort=False, random_state=None,\n",
       "            splitter='best')>"
      ]
     },
     "execution_count": 15,
     "metadata": {},
     "output_type": "execute_result"
    }
   ],
   "source": [
    "dtree.get_params"
   ]
  },
  {
   "cell_type": "markdown",
   "metadata": {},
   "source": [
    "### Decison tree grid search"
   ]
  },
  {
   "cell_type": "code",
   "execution_count": 16,
   "metadata": {},
   "outputs": [
    {
     "name": "stderr",
     "output_type": "stream",
     "text": [
      "/home/vidigal/anaconda3/lib/python3.7/site-packages/dask/config.py:168: YAMLLoadWarning: calling yaml.load() without Loader=... is deprecated, as the default Loader is unsafe. Please read https://msg.pyyaml.org/load for full details.\n",
      "  data = yaml.load(f.read()) or {}\n",
      "/home/vidigal/anaconda3/lib/python3.7/site-packages/distributed/config.py:20: YAMLLoadWarning: calling yaml.load() without Loader=... is deprecated, as the default Loader is unsafe. Please read https://msg.pyyaml.org/load for full details.\n",
      "  defaults = yaml.load(f)\n"
     ]
    },
    {
     "name": "stdout",
     "output_type": "stream",
     "text": [
      "Tuned hyperparameters:  {'max_depth': 1, 'max_leaf_nodes': 100, 'min_samples_leaf': 1, 'min_samples_split': 40}\n",
      "Accuracy score:  0.842 +- 0.095\n",
      "Precision score: 0.867 +- 0.086\n",
      "Recall: 0.842 +- 0.095\n",
      "Confusion matrix:\n",
      "CPU times: user 11min 56s, sys: 18.1 s, total: 12min 14s\n",
      "Wall time: 3min 16s\n"
     ]
    },
    {
     "data": {
      "image/png": "[encoded data removed]",
      "text/plain": [
       "<Figure size 144x108 with 2 Axes>"
      ]
     },
     "metadata": {
      "needs_background": "light"
     },
     "output_type": "display_data"
    }
   ],
   "source": [
    "%%time\n",
    "import dask_ml.model_selection as dcv\n",
    "dtree_grid = {'max_depth':range(1,20,2),\n",
    "              'min_samples_leaf':range(1,10,2),\n",
    "              'min_samples_split' : range(10,100,10),\n",
    "              \"max_leaf_nodes\": [ 100 ,1000, 10000]}\n",
    "\n",
    "dtree_cv=dcv.GridSearchCV(dtree,dtree_grid,cv=3, n_jobs=-1)\n",
    "report(dtree_cv, X_sm, y_sm, GS=True)"
   ]
  },
  {
   "cell_type": "code",
   "execution_count": 17,
   "metadata": {},
   "outputs": [],
   "source": [
    "dtree_best= joblib.load('filename.joblib')"
   ]
  },
  {
   "cell_type": "markdown",
   "metadata": {},
   "source": [
    "### Discusion:\n",
    "Models obtained from decision trees are intuitive and easier to explain to business, as they could help choose between several courses of action.\n",
    "\n",
    "However, decision trees are a highly biased class of models. You can make a decision tree model on your training set which might outperform all other algorithms but it will prove to be a poor predictor on your test set. \n",
    "In order to avoid that, you will have to rely heavily on hyperparameter search and cross validation to get a good decision tree model.\n",
    "\n",
    "Also, decision trees can take a lot of memory. This is why we could not properly tune our parameters, in the end having worst results than with the standard parameters.\n",
    "\n",
    "Simple models like decision trees tend not to have good predicting power and for that reason are rarely used."
   ]
  },
  {
   "cell_type": "markdown",
   "metadata": {},
   "source": [
    "### Support Vector Machines"
   ]
  },
  {
   "cell_type": "code",
   "execution_count": 18,
   "metadata": {},
   "outputs": [
    {
     "name": "stdout",
     "output_type": "stream",
     "text": [
      "Accuracy score:  0.988 +- 0.038\n",
      "Precision score: 0.99 +- 0.03\n",
      "Recall: 0.988 +- 0.038\n",
      "Confusion matrix:\n"
     ]
    },
    {
     "data": {
      "image/png": "[encoded data removed]",
      "text/plain": [
       "<Figure size 144x108 with 2 Axes>"
      ]
     },
     "metadata": {
      "needs_background": "light"
     },
     "output_type": "display_data"
    }
   ],
   "source": [
    "from sklearn.svm import SVC\n",
    "svm = SVC(kernel='rbf')\n",
    "report(svm, X_sm, y_sm)"
   ]
  },
  {
   "cell_type": "code",
   "execution_count": 19,
   "metadata": {},
   "outputs": [
    {
     "name": "stdout",
     "output_type": "stream",
     "text": [
      "Tuned hyperparameters:  {'C': 100.0, 'class_weight': None, 'gamma': 0.0001}\n",
      "Accuracy score:  0.99 +- 0.03\n",
      "Precision score: 0.992 +- 0.025\n",
      "Recall: 0.99 +- 0.03\n",
      "Confusion matrix:\n",
      "CPU times: user 1min 37s, sys: 2min 53s, total: 4min 31s\n",
      "Wall time: 1min 8s\n"
     ]
    },
    {
     "data": {
      "image/png": "[encoded data removed]",
      "text/plain": [
       "<Figure size 144x108 with 2 Axes>"
      ]
     },
     "metadata": {
      "needs_background": "light"
     },
     "output_type": "display_data"
    }
   ],
   "source": [
    "%%time\n",
    "import dask_ml.model_selection as dcv\n",
    "svm_grid = {'C': [1e-4, 1e-2, 1, 1e2, 1e4],\n",
    "               'gamma': [1e-4, 1e-2, 1, 1e2,  1e4],\n",
    "               'class_weight': [None, 'balanced']}\n",
    "\n",
    "svm_cv=dcv.GridSearchCV(svm,svm_grid,cv=3, n_jobs=-1)\n",
    "report(svm_cv, X_sm, y_sm, GS=True)"
   ]
  },
  {
   "cell_type": "code",
   "execution_count": 20,
   "metadata": {},
   "outputs": [],
   "source": [
    "svm_best= joblib.load('filename.joblib')"
   ]
  },
  {
   "cell_type": "markdown",
   "metadata": {},
   "source": [
    "### Discussion:\n",
    "Support Vector Machine (SVM) is a supervised machine learning technique that is widely used in pattern recognition and classification problems.\n",
    "Having high accuracy, nice theoretical guarantees regarding overfitting, and with an appropriate kernel, they can work well even if your data is not linearly separable in the base feature space.\n",
    "\n",
    "Results of SVMs are not as intuitive as decision trees or a logistic regression for a layman. Also, SVMs can be very costly to train on huge data and difficult to tune. \n",
    "However, this was not the case and with hyperparameter tuning we could achieve the best results.\n",
    "\n",
    "Tuned hyperparameters:  {'C': 100.0, 'class_weight': None, 'gamma': 0.0001}\n"
   ]
  },
  {
   "cell_type": "markdown",
   "metadata": {},
   "source": [
    "### Note:\n",
    "\n",
    "Generally speaking it is difficult to say which are the best models without prior testing. However, amongst the ones identified previously, the logistic regression and SVM are both good models. The SVM is slightly more accurate, achieving better results. It is also more complex, which makes it difficult to understand its results. Therefore, in the end, the choice of model depends on the need to understand the final output (in which case a simpler model is preferable), or on the accuracy of the final result, regardlessly of how understandable are the results (black models)."
   ]
  },
  {
   "cell_type": "markdown",
   "metadata": {},
   "source": [
    "## 3. Improving Classification Performance"
   ]
  },
  {
   "cell_type": "markdown",
   "metadata": {},
   "source": [
    "## 3.1. Feature Selection"
   ]
  },
  {
   "cell_type": "markdown",
   "metadata": {},
   "source": [
    "### Univariate feature selection with F-test for feature scoring\n",
    "#### We use the default selection function: the 10% most significant features"
   ]
  },
  {
   "cell_type": "markdown",
   "metadata": {},
   "source": [
    "### Logistic regression"
   ]
  },
  {
   "cell_type": "code",
   "execution_count": 21,
   "metadata": {},
   "outputs": [
    {
     "name": "stdout",
     "output_type": "stream",
     "text": [
      "Accuracy score:  0.97 +- 0.046\n",
      "Precision score: 0.975 +- 0.038\n",
      "Recall: 0.97 +- 0.046\n",
      "Confusion matrix:\n"
     ]
    },
    {
     "data": {
      "image/png": "[encoded data removed]",
      "text/plain": [
       "<Figure size 144x108 with 2 Axes>"
      ]
     },
     "metadata": {
      "needs_background": "light"
     },
     "output_type": "display_data"
    }
   ],
   "source": [
    "#logreg_best = LogisticRegression(C= 3.593813663804626, penalty= 'l1')\n",
    "report(logreg_best, X_sm, y_sm, perc_selec=10, sel=True)\n",
    "logreg_best_sel = joblib.load('filename.joblib')"
   ]
  },
  {
   "cell_type": "markdown",
   "metadata": {},
   "source": [
    "### Decision Tree"
   ]
  },
  {
   "cell_type": "code",
   "execution_count": 22,
   "metadata": {},
   "outputs": [
    {
     "name": "stdout",
     "output_type": "stream",
     "text": [
      "Accuracy score:  0.875 +- 0.074\n",
      "Precision score: 0.895 +- 0.066\n",
      "Recall: 0.875 +- 0.074\n",
      "Confusion matrix:\n"
     ]
    },
    {
     "data": {
      "image/png": "[encoded data removed]",
      "text/plain": [
       "<Figure size 144x108 with 2 Axes>"
      ]
     },
     "metadata": {
      "needs_background": "light"
     },
     "output_type": "display_data"
    }
   ],
   "source": [
    "report(dtree_best, X_sm, y_sm, perc_selec=10, sel=True)\n",
    "dtree_best_sel = joblib.load('filename.joblib')"
   ]
  },
  {
   "cell_type": "markdown",
   "metadata": {},
   "source": [
    "### Support vector machines"
   ]
  },
  {
   "cell_type": "code",
   "execution_count": 23,
   "metadata": {},
   "outputs": [
    {
     "name": "stdout",
     "output_type": "stream",
     "text": [
      "Accuracy score:  0.988 +- 0.038\n",
      "Precision score: 0.99 +- 0.03\n",
      "Recall: 0.988 +- 0.038\n",
      "Confusion matrix:\n"
     ]
    },
    {
     "data": {
      "image/png": "[encoded data removed]",
      "text/plain": [
       "<Figure size 144x108 with 2 Axes>"
      ]
     },
     "metadata": {
      "needs_background": "light"
     },
     "output_type": "display_data"
    }
   ],
   "source": [
    "report(svm_best, X_sm, y_sm, perc_selec=10, sel=True)\n",
    "svm_best_sel = joblib.load('filename.joblib')"
   ]
  },
  {
   "cell_type": "markdown",
   "metadata": {},
   "source": [
    "### Discussion \n",
    "\n",
    "Feature Selection or attribute selection is a process by which you automatically search for the best subset of attributes in your dataset.\n",
    "\n",
    "Feature selection can be a good solution if we need to reduce the overfitting and train the algorithms faster without losing hardly any accuracy. This is what we see in the data above."
   ]
  },
  {
   "cell_type": "markdown",
   "metadata": {},
   "source": [
    "## 3.2. Ensemble Learning"
   ]
  },
  {
   "cell_type": "markdown",
   "metadata": {},
   "source": [
    "## Voting Classifier\n",
    "\n",
    "* Used voting classifier (http://scikit-learn.org/stable/modules/ensemble.html#voting-classifier) to combine the best results of the 3 classifiers choosed above (either with or without feature selection). "
   ]
  },
  {
   "cell_type": "code",
   "execution_count": 25,
   "metadata": {},
   "outputs": [
    {
     "name": "stdout",
     "output_type": "stream",
     "text": [
      "Accuracy score:  0.98 +- 0.04\n",
      "Precision score: 0.983 +- 0.033\n",
      "Recall: 0.98 +- 0.04\n",
      "Confusion matrix:\n"
     ]
    },
    {
     "data": {
      "image/png": "[encoded data removed]",
      "text/plain": [
       "<Figure size 144x108 with 2 Axes>"
      ]
     },
     "metadata": {
      "needs_background": "light"
     },
     "output_type": "display_data"
    }
   ],
   "source": [
    "from sklearn.ensemble import VotingClassifier\n",
    "\n",
    "vclass = VotingClassifier(estimators=[('LogREg', logreg_best_sel), ('dTree', dtree), ('svm', svm_best_sel)], weights=[1,0.5,1], voting='hard')\n",
    "report(vclass, X_sm, y_sm, perc_selec=10, sel=True)"
   ]
  },
  {
   "cell_type": "markdown",
   "metadata": {},
   "source": [
    "### Discussion:\n",
    "\n",
    "Voting is one of the simplest ways of combining the predictions from multiple machine learning algorithms.\n",
    "\n",
    "Voting allows us to combine the three different classifiers. Furthermore, we can add a weight parameter, which allows us to assign a specific weight to each classifier. Since we had lower predictions earlier with decision trees, this classifier will get a lower weight.\n",
    "\n",
    "The majority rule voting approach might not always work so well in practice, especially if the ensemble consists of more “weak” than “strong” classification models. "
   ]
  },
  {
   "cell_type": "markdown",
   "metadata": {},
   "source": [
    "It takes two inputs. The first is our estimator array of our three models. We will set the voting parameter to hard, which tells our classifier to make predicitons by majority vote."
   ]
  },
  {
   "cell_type": "markdown",
   "metadata": {},
   "source": [
    "## AdaBoost \n",
    "\n",
    "* [AdaBoost](https://scikit-learn.org/stable/modules/ensemble.html#adaboost).\n",
    "\n",
    "Boosting ensemble algorithms creates a sequence of models that attempt to correct the mistakes of the models before them in the sequence.\n",
    "\n",
    "Once created, the models make predictions which may be weighted by their demonstrated accuracy and the results are combined to create a final output prediction.\n",
    "\n",
    "**AdaBoost** was perhaps the first successful boosting ensemble algorithm. It generally works by weighting instances in the dataset by how easy or difficult they are to classify, allowing the algorithm to pay or or less attention to them in the construction of subsequent models.\n"
   ]
  },
  {
   "cell_type": "code",
   "execution_count": 26,
   "metadata": {},
   "outputs": [
    {
     "name": "stdout",
     "output_type": "stream",
     "text": [
      "Accuracy score:  0.925 +- 0.05\n",
      "Precision score: 0.938 +- 0.041\n",
      "Recall: 0.925 +- 0.05\n",
      "Confusion matrix:\n"
     ]
    },
    {
     "data": {
      "image/png": "[encoded data removed]",
      "text/plain": [
       "<Figure size 144x108 with 2 Axes>"
      ]
     },
     "metadata": {
      "needs_background": "light"
     },
     "output_type": "display_data"
    }
   ],
   "source": [
    "from sklearn.ensemble import AdaBoostClassifier\n",
    "AdaB = AdaBoostClassifier()\n",
    "report(AdaB, X_sm, y_sm)"
   ]
  },
  {
   "cell_type": "code",
   "execution_count": 27,
   "metadata": {},
   "outputs": [
    {
     "data": {
      "text/plain": [
       "<bound method BaseEstimator.get_params of AdaBoostClassifier(algorithm='SAMME.R', base_estimator=None,\n",
       "          learning_rate=1.0, n_estimators=50, random_state=None)>"
      ]
     },
     "execution_count": 27,
     "metadata": {},
     "output_type": "execute_result"
    }
   ],
   "source": [
    "AdaB.get_params"
   ]
  },
  {
   "cell_type": "code",
   "execution_count": 32,
   "metadata": {},
   "outputs": [
    {
     "name": "stdout",
     "output_type": "stream",
     "text": [
      "Tuned hyperparameters:  {'n_estimators': 651}\n",
      "Accuracy score:  0.922 +- 0.088\n",
      "Precision score: 0.937 +- 0.072\n",
      "Recall: 0.922 +- 0.088\n",
      "Confusion matrix:\n",
      "CPU times: user 1h 43min 36s, sys: 35.5 s, total: 1h 44min 11s\n",
      "Wall time: 29min 17s\n"
     ]
    },
    {
     "data": {
      "image/png": "[encoded data removed]",
      "text/plain": [
       "<Figure size 144x108 with 2 Axes>"
      ]
     },
     "metadata": {
      "needs_background": "light"
     },
     "output_type": "display_data"
    }
   ],
   "source": [
    "%%time\n",
    "import dask_ml.model_selection as dcv\n",
    "AdaB_grid = { \"n_estimators\": range(1,1000, 50)}\n",
    "\n",
    "AdaB = AdaBoostClassifier()\n",
    "AdaB_cv=dcv.GridSearchCV(AdaB,AdaB_grid,cv=3, n_jobs=-1)\n",
    "report(AdaB_cv, X_sm, y_sm, GS=True)"
   ]
  },
  {
   "cell_type": "code",
   "execution_count": 33,
   "metadata": {},
   "outputs": [],
   "source": [
    "AdaB_best = joblib.load('filename.joblib')"
   ]
  },
  {
   "cell_type": "code",
   "execution_count": 34,
   "metadata": {},
   "outputs": [
    {
     "name": "stdout",
     "output_type": "stream",
     "text": [
      "Accuracy score:  0.945 +- 0.079\n",
      "Precision score: 0.958 +- 0.056\n",
      "Recall: 0.945 +- 0.079\n",
      "Confusion matrix:\n"
     ]
    },
    {
     "data": {
      "image/png": "[encoded data removed]",
      "text/plain": [
       "<Figure size 144x108 with 2 Axes>"
      ]
     },
     "metadata": {
      "needs_background": "light"
     },
     "output_type": "display_data"
    }
   ],
   "source": [
    "report(AdaB_best, X_sm, y_sm, perc_selec=10, sel=True)"
   ]
  },
  {
   "cell_type": "markdown",
   "metadata": {},
   "source": [
    "## Random Forests\n",
    "\n",
    "* [Random Forests](http://scikit-learn.org/stable/modules/ensemble.html#random-forests).\n",
    "\n",
    "Bootstrap Aggregation or bagging involves taking multiple samples from your training dataset (with replacement) and training a model for each sample.\n",
    "\n",
    "The final output prediction is averaged across the predictions of all of the sub-models.\n",
    "\n",
    "**Random forest** is an extension of bagged decision trees."
   ]
  },
  {
   "cell_type": "code",
   "execution_count": 35,
   "metadata": {},
   "outputs": [
    {
     "name": "stdout",
     "output_type": "stream",
     "text": [
      "Accuracy score:  0.98 +- 0.04\n",
      "Precision score: 0.983 +- 0.033\n",
      "Recall: 0.98 +- 0.04\n",
      "Confusion matrix:\n"
     ]
    },
    {
     "data": {
      "image/png": "[encoded data removed]",
      "text/plain": [
       "<Figure size 144x108 with 2 Axes>"
      ]
     },
     "metadata": {
      "needs_background": "light"
     },
     "output_type": "display_data"
    }
   ],
   "source": [
    "from sklearn.ensemble import RandomForestClassifier\n",
    "RF = RandomForestClassifier()\n",
    "report(RF, X_sm, y_sm)"
   ]
  },
  {
   "cell_type": "code",
   "execution_count": 37,
   "metadata": {},
   "outputs": [
    {
     "name": "stdout",
     "output_type": "stream",
     "text": [
      "Tuned hyperparameters:  {'criterion': 'gini', 'max_depth': 4, 'max_features': 'auto', 'n_estimators': 200}\n",
      "Accuracy score:  0.978 +- 0.045\n",
      "Precision score: 0.982 +- 0.037\n",
      "Recall: 0.978 +- 0.045\n",
      "Confusion matrix:\n"
     ]
    },
    {
     "data": {
      "image/png": "[encoded data removed]",
      "text/plain": [
       "<Figure size 144x108 with 2 Axes>"
      ]
     },
     "metadata": {
      "needs_background": "light"
     },
     "output_type": "display_data"
    }
   ],
   "source": [
    "import dask_ml.model_selection as dcv\n",
    "RF_grid = { \n",
    "    'n_estimators': [200, 500],\n",
    "    'max_features': ['auto', 'sqrt', 'log2'],\n",
    "    'max_depth' : [4,5,6,7,8],\n",
    "    'criterion' :['gini', 'entropy']\n",
    "}\n",
    "\n",
    "RF_cs =dcv.GridSearchCV(RF,RF_grid,cv=3, n_jobs=-1)\n",
    "report(RF_cs, X_sm, y_sm, GS=True)"
   ]
  },
  {
   "cell_type": "markdown",
   "metadata": {},
   "source": [
    "The goal of any machine learning problem is to find a single model that will best predict our wanted outcome. Rather than making one model and hoping this model is the best/most accurate predictor, we can make ensemble methods that take a myriad of models into account, and average those models to produce one final model. It is important to note that Random forests are not the only form of ensemble method, just the most popular and relevant in data science today."
   ]
  },
  {
   "cell_type": "code",
   "execution_count": null,
   "metadata": {},
   "outputs": [],
   "source": []
  }
 ],
 "metadata": {
  "kernelspec": {
   "display_name": "Python 3",
   "language": "python",
   "name": "python3"
  },
  "language_info": {
   "codemirror_mode": {
    "name": "ipython",
    "version": 3
   },
   "file_extension": ".py",
   "mimetype": "text/x-python",
   "name": "python",
   "nbconvert_exporter": "python",
   "pygments_lexer": "ipython3",
   "version": "3.7.3"
  }
 },
 "nbformat": 4,
 "nbformat_minor": 2
}

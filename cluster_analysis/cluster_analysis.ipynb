{
 "cells": [
  {
   "cell_type": "markdown",
   "metadata": {},
   "source": [
    "# Clustering Analysis\n",
    "\n",
    "### João Vidigal \n",
    "------"
   ]
  },
  {
   "cell_type": "markdown",
   "metadata": {},
   "source": [
    "## 1.1. Cluster Analysis \n",
    "\n",
    "Cluster analysis is the process of **partitioning** a set of data objects (or observations) into subsets. Each subset is a cluster, such that objects in a cluster are similar to one another, yet dissimilar to objects in other clusters.\n",
    "The partitioning is not performed by humans, but by the clustering algorithm. Hence, clustering is useful in that it can lead to the discovery of previously unknown groups within the data. Also known as **unsupervised learning** because the class label information is not present.\n",
    "\n",
    "Tool to **gain insight** into the distribution of data, to **observe** the characteristics of each cluster, to **focus on a particular set** of clusters for further analysis but also can serve as a **preprocessing step** for other algorithms.\n",
    "\n",
    "Clustering is known as unsupervised learning because the class label information is not present.\n",
    "For this reason, clustering is a form of learning by observation,\n",
    "rather than learning by examples.\n",
    "\n",
    "**Overview of Basic Clustering Methods**\n",
    "* **Partitioning Methods**: The simplest and most fundamental version of cluster analysis is partitioning, which organizes the objects of a set into several exclusive groups or clusters. To keep the problem specification concise, we can assume that the number of clusters is given as background knowledge. e.g. k-Means\n",
    "* **Hierarchical Methods**: works by grouping data objects into a hierarchy or “tree” of clusters.\n",
    "* **Density-Based Methods**: To find clusters of arbitrary shape, alternatively, we can model clusters as dense regions in the data space, separated by sparse regions. e.g. DBSCAN"
   ]
  },
  {
   "cell_type": "markdown",
   "metadata": {},
   "source": [
    "## 1.2. Dataset and Tools\n",
    "\n",
    "The dataset to be analysed is **`AML_ALL_PATIENTS_GENES_LARGE.csv`**. This is a modified version of the widely studied **Leukemia dataset**, originally published by Golub et al. (1999) [\"Molecular Classification of Cancer: Class Discovery and Class Prediction by Gene\n",
    "Expression Monitoring\"](http://archive.broadinstitute.org/mpr/publications/projects/Leukemia/Golub_et_al_1999.pdf.) \n",
    "\n",
    "**This dataset studies patients with two different types of leukaemia: acute myeloid leukemia (AML) and acute lymphoblastic leukemia (ALL). The data analyzed here contains the expression levels of 5147 Human genes (features/columns) analyzed in 72 patients (rows): 47 ALL and 25 AML.**\n",
    "\n",
    "Each row identifies a patient: The first column, `PATIENT_ID`, contains the patients' IDs , the second column, `PATIENT_DIAGNOSIS`, contains the initial diagnosis as performed by clinicians (ground truth), and the remaining 3051 columns contain the expression levels of the 3051 genes analysed.\n",
    "\n",
    "**The goal is to cluster patients and (ideally) find AML groups and ALL groups.**\n"
   ]
  },
  {
   "cell_type": "markdown",
   "metadata": {},
   "source": [
    "## 1.3. Load and Preprocess Dataset\n"
   ]
  },
  {
   "cell_type": "markdown",
   "metadata": {},
   "source": [
    "At the end of this step you should have:\n",
    "* a 72 rows × 5147 columns matrix, **X**, containing the values of the 5147 features for each of the 72 patients.\n",
    "* a vector, **y**, with the 72 diagnosis, which will be used to train the classifiers."
   ]
  },
  {
   "cell_type": "markdown",
   "metadata": {},
   "source": [
    "### 1.3.1. Import libraries"
   ]
  },
  {
   "cell_type": "code",
   "execution_count": 1,
   "metadata": {},
   "outputs": [
    {
     "name": "stdout",
     "output_type": "stream",
     "text": [
      "The autoreload extension is already loaded. To reload it, use:\n",
      "  %reload_ext autoreload\n"
     ]
    }
   ],
   "source": [
    "%load_ext autoreload\n",
    "%autoreload 2\n",
    "\n",
    "%matplotlib inline"
   ]
  },
  {
   "cell_type": "code",
   "execution_count": 2,
   "metadata": {},
   "outputs": [],
   "source": [
    "import pandas as pd\n",
    "import numpy as np\n",
    "import matplotlib.pyplot as plt\n",
    "import seaborn as sns\n",
    "\n",
    "from sklearn.feature_selection import VarianceThreshold\n",
    "from sklearn.decomposition import PCA\n",
    "from sklearn.preprocessing import scale\n",
    "from sklearn.cluster import KMeans\n",
    "from sklearn.metrics import silhouette_score, silhouette_samples\n",
    "\n",
    "from sklearn.cluster import KMeans\n",
    "\n",
    "from my_functions import *\n"
   ]
  },
  {
   "cell_type": "markdown",
   "metadata": {},
   "source": [
    "### 1.3.2. Load data and exploratory data analysis (EDA)"
   ]
  },
  {
   "cell_type": "code",
   "execution_count": 3,
   "metadata": {},
   "outputs": [
    {
     "data": {
      "text/html": [
       "<div>\n",
       "<style scoped>\n",
       "    .dataframe tbody tr th:only-of-type {\n",
       "        vertical-align: middle;\n",
       "    }\n",
       "\n",
       "    .dataframe tbody tr th {\n",
       "        vertical-align: top;\n",
       "    }\n",
       "\n",
       "    .dataframe thead th {\n",
       "        text-align: right;\n",
       "    }\n",
       "</style>\n",
       "<table border=\"1\" class=\"dataframe\">\n",
       "  <thead>\n",
       "    <tr style=\"text-align: right;\">\n",
       "      <th></th>\n",
       "      <th>PATIENT_ID</th>\n",
       "      <th>PATIENT_DIAGNOSIS</th>\n",
       "      <th>AFFX-BioC-5_at</th>\n",
       "      <th>hum_alu_at</th>\n",
       "      <th>AFFX-DapX-M_at</th>\n",
       "      <th>AFFX-LysX-5_at</th>\n",
       "      <th>AFFX-HUMISGF3A/M97935_MA_at</th>\n",
       "      <th>AFFX-HUMISGF3A/M97935_MB_at</th>\n",
       "      <th>AFFX-HUMISGF3A/M97935_3_at</th>\n",
       "      <th>AFFX-HUMRGE/M10098_5_at</th>\n",
       "      <th>AFFX-HUMRGE/M10098_M_at</th>\n",
       "      <th>AFFX-HUMRGE/M10098_3_at</th>\n",
       "      <th>AFFX-HUMGAPDH/M33197_5_at</th>\n",
       "      <th>AFFX-HUMGAPDH/M33197_M_at</th>\n",
       "      <th>AFFX-HUMGAPDH/M33197_3_at</th>\n",
       "      <th>...</th>\n",
       "      <th>D64015_at</th>\n",
       "      <th>L10717_at</th>\n",
       "      <th>L78833_cds4_at</th>\n",
       "      <th>M13981_at</th>\n",
       "      <th>M21064_at</th>\n",
       "      <th>M93143_at</th>\n",
       "      <th>U29175_at</th>\n",
       "      <th>U48730_at</th>\n",
       "      <th>U58516_at</th>\n",
       "      <th>X06956_at</th>\n",
       "      <th>X83863_at</th>\n",
       "      <th>Z17240_at</th>\n",
       "      <th>L49218_f_at</th>\n",
       "      <th>M71243_f_at</th>\n",
       "      <th>Z78285_f_at</th>\n",
       "    </tr>\n",
       "  </thead>\n",
       "  <tbody>\n",
       "    <tr>\n",
       "      <th>0</th>\n",
       "      <td>1</td>\n",
       "      <td>ALL</td>\n",
       "      <td>-0.912181</td>\n",
       "      <td>-0.936280</td>\n",
       "      <td>1.330679</td>\n",
       "      <td>0.045416</td>\n",
       "      <td>0.236442</td>\n",
       "      <td>0.196788</td>\n",
       "      <td>0.244435</td>\n",
       "      <td>2.561725</td>\n",
       "      <td>2.489963</td>\n",
       "      <td>1.794520</td>\n",
       "      <td>-0.029645</td>\n",
       "      <td>-0.528565</td>\n",
       "      <td>-0.203529</td>\n",
       "      <td>...</td>\n",
       "      <td>0.266795</td>\n",
       "      <td>0.343097</td>\n",
       "      <td>0.685649</td>\n",
       "      <td>-0.529272</td>\n",
       "      <td>0.582380</td>\n",
       "      <td>0.428940</td>\n",
       "      <td>1.018678</td>\n",
       "      <td>0.103263</td>\n",
       "      <td>-0.518375</td>\n",
       "      <td>0.019140</td>\n",
       "      <td>0.027771</td>\n",
       "      <td>0.122186</td>\n",
       "      <td>0.593119</td>\n",
       "      <td>-0.391378</td>\n",
       "      <td>-0.161117</td>\n",
       "    </tr>\n",
       "    <tr>\n",
       "      <th>1</th>\n",
       "      <td>2</td>\n",
       "      <td>ALL</td>\n",
       "      <td>0.842926</td>\n",
       "      <td>-1.311323</td>\n",
       "      <td>-0.067011</td>\n",
       "      <td>-0.964423</td>\n",
       "      <td>-0.224387</td>\n",
       "      <td>-0.200579</td>\n",
       "      <td>-0.371600</td>\n",
       "      <td>-0.417306</td>\n",
       "      <td>-0.408754</td>\n",
       "      <td>-0.002931</td>\n",
       "      <td>0.698765</td>\n",
       "      <td>0.035392</td>\n",
       "      <td>-0.122523</td>\n",
       "      <td>...</td>\n",
       "      <td>-0.036600</td>\n",
       "      <td>2.472667</td>\n",
       "      <td>-0.342349</td>\n",
       "      <td>-1.342015</td>\n",
       "      <td>-0.747800</td>\n",
       "      <td>-0.425219</td>\n",
       "      <td>-0.474402</td>\n",
       "      <td>-0.067901</td>\n",
       "      <td>0.555431</td>\n",
       "      <td>0.160143</td>\n",
       "      <td>0.003223</td>\n",
       "      <td>-0.043618</td>\n",
       "      <td>0.032103</td>\n",
       "      <td>-0.576990</td>\n",
       "      <td>0.415146</td>\n",
       "    </tr>\n",
       "    <tr>\n",
       "      <th>2</th>\n",
       "      <td>3</td>\n",
       "      <td>ALL</td>\n",
       "      <td>1.076941</td>\n",
       "      <td>-0.788133</td>\n",
       "      <td>1.859748</td>\n",
       "      <td>1.151430</td>\n",
       "      <td>0.498175</td>\n",
       "      <td>1.244393</td>\n",
       "      <td>1.390191</td>\n",
       "      <td>0.664072</td>\n",
       "      <td>0.542223</td>\n",
       "      <td>0.548277</td>\n",
       "      <td>2.025297</td>\n",
       "      <td>0.771630</td>\n",
       "      <td>1.078831</td>\n",
       "      <td>...</td>\n",
       "      <td>0.830244</td>\n",
       "      <td>0.725328</td>\n",
       "      <td>1.561351</td>\n",
       "      <td>3.598365</td>\n",
       "      <td>0.224255</td>\n",
       "      <td>2.304741</td>\n",
       "      <td>-0.273350</td>\n",
       "      <td>1.493964</td>\n",
       "      <td>1.747818</td>\n",
       "      <td>-0.568816</td>\n",
       "      <td>0.797680</td>\n",
       "      <td>2.306901</td>\n",
       "      <td>0.705322</td>\n",
       "      <td>-0.331659</td>\n",
       "      <td>-0.261337</td>\n",
       "    </tr>\n",
       "    <tr>\n",
       "      <th>3</th>\n",
       "      <td>4</td>\n",
       "      <td>ALL</td>\n",
       "      <td>-1.596222</td>\n",
       "      <td>-0.874097</td>\n",
       "      <td>0.991127</td>\n",
       "      <td>0.574379</td>\n",
       "      <td>-0.065558</td>\n",
       "      <td>-0.044040</td>\n",
       "      <td>-0.402063</td>\n",
       "      <td>0.488835</td>\n",
       "      <td>0.247321</td>\n",
       "      <td>0.266520</td>\n",
       "      <td>-0.055635</td>\n",
       "      <td>-0.456281</td>\n",
       "      <td>-0.240105</td>\n",
       "      <td>...</td>\n",
       "      <td>-0.608718</td>\n",
       "      <td>-0.596098</td>\n",
       "      <td>0.632346</td>\n",
       "      <td>0.210415</td>\n",
       "      <td>0.623308</td>\n",
       "      <td>-0.000930</td>\n",
       "      <td>-0.288936</td>\n",
       "      <td>0.691636</td>\n",
       "      <td>0.548844</td>\n",
       "      <td>-0.552853</td>\n",
       "      <td>-0.342677</td>\n",
       "      <td>-0.653193</td>\n",
       "      <td>-1.336776</td>\n",
       "      <td>-0.496289</td>\n",
       "      <td>-1.514082</td>\n",
       "    </tr>\n",
       "    <tr>\n",
       "      <th>4</th>\n",
       "      <td>5</td>\n",
       "      <td>ALL</td>\n",
       "      <td>-0.192137</td>\n",
       "      <td>-0.655253</td>\n",
       "      <td>-0.193356</td>\n",
       "      <td>-0.651854</td>\n",
       "      <td>0.142487</td>\n",
       "      <td>-0.176496</td>\n",
       "      <td>-0.286980</td>\n",
       "      <td>-0.274163</td>\n",
       "      <td>0.379259</td>\n",
       "      <td>-0.311094</td>\n",
       "      <td>-0.100120</td>\n",
       "      <td>0.373027</td>\n",
       "      <td>-0.301228</td>\n",
       "      <td>...</td>\n",
       "      <td>-1.102819</td>\n",
       "      <td>-0.355838</td>\n",
       "      <td>-0.761163</td>\n",
       "      <td>-0.437953</td>\n",
       "      <td>-0.839889</td>\n",
       "      <td>-0.721104</td>\n",
       "      <td>-0.471285</td>\n",
       "      <td>-0.206971</td>\n",
       "      <td>-0.063819</td>\n",
       "      <td>0.325090</td>\n",
       "      <td>-1.183998</td>\n",
       "      <td>0.049037</td>\n",
       "      <td>0.099424</td>\n",
       "      <td>-0.609271</td>\n",
       "      <td>0.139542</td>\n",
       "    </tr>\n",
       "  </tbody>\n",
       "</table>\n",
       "<p>5 rows × 5149 columns</p>\n",
       "</div>"
      ],
      "text/plain": [
       "   PATIENT_ID PATIENT_DIAGNOSIS  AFFX-BioC-5_at  hum_alu_at  AFFX-DapX-M_at  \\\n",
       "0           1               ALL       -0.912181   -0.936280        1.330679   \n",
       "1           2               ALL        0.842926   -1.311323       -0.067011   \n",
       "2           3               ALL        1.076941   -0.788133        1.859748   \n",
       "3           4               ALL       -1.596222   -0.874097        0.991127   \n",
       "4           5               ALL       -0.192137   -0.655253       -0.193356   \n",
       "\n",
       "   AFFX-LysX-5_at  AFFX-HUMISGF3A/M97935_MA_at  AFFX-HUMISGF3A/M97935_MB_at  \\\n",
       "0        0.045416                     0.236442                     0.196788   \n",
       "1       -0.964423                    -0.224387                    -0.200579   \n",
       "2        1.151430                     0.498175                     1.244393   \n",
       "3        0.574379                    -0.065558                    -0.044040   \n",
       "4       -0.651854                     0.142487                    -0.176496   \n",
       "\n",
       "   AFFX-HUMISGF3A/M97935_3_at  AFFX-HUMRGE/M10098_5_at  \\\n",
       "0                    0.244435                 2.561725   \n",
       "1                   -0.371600                -0.417306   \n",
       "2                    1.390191                 0.664072   \n",
       "3                   -0.402063                 0.488835   \n",
       "4                   -0.286980                -0.274163   \n",
       "\n",
       "   AFFX-HUMRGE/M10098_M_at  AFFX-HUMRGE/M10098_3_at  \\\n",
       "0                 2.489963                 1.794520   \n",
       "1                -0.408754                -0.002931   \n",
       "2                 0.542223                 0.548277   \n",
       "3                 0.247321                 0.266520   \n",
       "4                 0.379259                -0.311094   \n",
       "\n",
       "   AFFX-HUMGAPDH/M33197_5_at  AFFX-HUMGAPDH/M33197_M_at  \\\n",
       "0                  -0.029645                  -0.528565   \n",
       "1                   0.698765                   0.035392   \n",
       "2                   2.025297                   0.771630   \n",
       "3                  -0.055635                  -0.456281   \n",
       "4                  -0.100120                   0.373027   \n",
       "\n",
       "   AFFX-HUMGAPDH/M33197_3_at  ...  D64015_at  L10717_at  L78833_cds4_at  \\\n",
       "0                  -0.203529  ...   0.266795   0.343097        0.685649   \n",
       "1                  -0.122523  ...  -0.036600   2.472667       -0.342349   \n",
       "2                   1.078831  ...   0.830244   0.725328        1.561351   \n",
       "3                  -0.240105  ...  -0.608718  -0.596098        0.632346   \n",
       "4                  -0.301228  ...  -1.102819  -0.355838       -0.761163   \n",
       "\n",
       "   M13981_at  M21064_at  M93143_at  U29175_at  U48730_at  U58516_at  \\\n",
       "0  -0.529272   0.582380   0.428940   1.018678   0.103263  -0.518375   \n",
       "1  -1.342015  -0.747800  -0.425219  -0.474402  -0.067901   0.555431   \n",
       "2   3.598365   0.224255   2.304741  -0.273350   1.493964   1.747818   \n",
       "3   0.210415   0.623308  -0.000930  -0.288936   0.691636   0.548844   \n",
       "4  -0.437953  -0.839889  -0.721104  -0.471285  -0.206971  -0.063819   \n",
       "\n",
       "   X06956_at  X83863_at  Z17240_at  L49218_f_at  M71243_f_at  Z78285_f_at  \n",
       "0   0.019140   0.027771   0.122186     0.593119    -0.391378    -0.161117  \n",
       "1   0.160143   0.003223  -0.043618     0.032103    -0.576990     0.415146  \n",
       "2  -0.568816   0.797680   2.306901     0.705322    -0.331659    -0.261337  \n",
       "3  -0.552853  -0.342677  -0.653193    -1.336776    -0.496289    -1.514082  \n",
       "4   0.325090  -1.183998   0.049037     0.099424    -0.609271     0.139542  \n",
       "\n",
       "[5 rows x 5149 columns]"
      ]
     },
     "execution_count": 3,
     "metadata": {},
     "output_type": "execute_result"
    }
   ],
   "source": [
    "data = pd.read_csv('AML_ALL_PATIENTS_GENES_LARGE.csv')\n",
    "data.head()"
   ]
  },
  {
   "cell_type": "code",
   "execution_count": 4,
   "metadata": {},
   "outputs": [
    {
     "name": "stdout",
     "output_type": "stream",
     "text": [
      "<class 'pandas.core.frame.DataFrame'>\n",
      "RangeIndex: 72 entries, 0 to 71\n",
      "Columns: 5149 entries, PATIENT_ID to Z78285_f_at\n",
      "dtypes: float64(5147), int64(1), object(1)\n",
      "memory usage: 2.8+ MB\n"
     ]
    }
   ],
   "source": [
    "data.info() # info about the df (like dtype and memory usage)."
   ]
  },
  {
   "cell_type": "markdown",
   "metadata": {},
   "source": [
    "Apart from the patient_id (type: int64) and  patient_diagnosis (type: object) the majority of data(genomic data) is float64 type."
   ]
  },
  {
   "cell_type": "code",
   "execution_count": 5,
   "metadata": {},
   "outputs": [
    {
     "data": {
      "text/html": [
       "<div>\n",
       "<style scoped>\n",
       "    .dataframe tbody tr th:only-of-type {\n",
       "        vertical-align: middle;\n",
       "    }\n",
       "\n",
       "    .dataframe tbody tr th {\n",
       "        vertical-align: top;\n",
       "    }\n",
       "\n",
       "    .dataframe thead th {\n",
       "        text-align: right;\n",
       "    }\n",
       "</style>\n",
       "<table border=\"1\" class=\"dataframe\">\n",
       "  <thead>\n",
       "    <tr style=\"text-align: right;\">\n",
       "      <th></th>\n",
       "      <th>PATIENT_ID</th>\n",
       "    </tr>\n",
       "    <tr>\n",
       "      <th>PATIENT_DIAGNOSIS</th>\n",
       "      <th></th>\n",
       "    </tr>\n",
       "  </thead>\n",
       "  <tbody>\n",
       "    <tr>\n",
       "      <th>ALL</th>\n",
       "      <td>47</td>\n",
       "    </tr>\n",
       "    <tr>\n",
       "      <th>AML</th>\n",
       "      <td>25</td>\n",
       "    </tr>\n",
       "  </tbody>\n",
       "</table>\n",
       "</div>"
      ],
      "text/plain": [
       "                   PATIENT_ID\n",
       "PATIENT_DIAGNOSIS            \n",
       "ALL                        47\n",
       "AML                        25"
      ]
     },
     "execution_count": 5,
     "metadata": {},
     "output_type": "execute_result"
    }
   ],
   "source": [
    "data[['PATIENT_ID','PATIENT_DIAGNOSIS']].groupby('PATIENT_DIAGNOSIS').count()"
   ]
  },
  {
   "cell_type": "code",
   "execution_count": 6,
   "metadata": {},
   "outputs": [
    {
     "data": {
      "text/plain": [
       "False"
      ]
     },
     "execution_count": 6,
     "metadata": {},
     "output_type": "execute_result"
    }
   ],
   "source": [
    "data.isnull().values.any() # check missing data. If False there is none."
   ]
  },
  {
   "cell_type": "markdown",
   "metadata": {},
   "source": [
    "The data doesn't have any missinga data."
   ]
  },
  {
   "cell_type": "code",
   "execution_count": 7,
   "metadata": {},
   "outputs": [
    {
     "data": {
      "text/plain": [
       "True"
      ]
     },
     "execution_count": 7,
     "metadata": {},
     "output_type": "execute_result"
    }
   ],
   "source": [
    "len(data.drop_duplicates()) == len(data) #check for duplicates. If true there are none."
   ]
  },
  {
   "cell_type": "markdown",
   "metadata": {},
   "source": [
    "Also, not any duplicates."
   ]
  },
  {
   "cell_type": "markdown",
   "metadata": {},
   "source": [
    "### 1.3.3. Split the dataset into the input (X) and output variables (Y)\n",
    "\n",
    "The first thing is to assign X and Y. Data assigned as an X array is what produces decisions encoded in the Y array."
   ]
  },
  {
   "cell_type": "code",
   "execution_count": 8,
   "metadata": {},
   "outputs": [],
   "source": [
    "data_df = data.set_index('PATIENT_ID')\n",
    "X_data, Y_data = data_df.drop('PATIENT_DIAGNOSIS', axis=1).to_numpy(), data_df['PATIENT_DIAGNOSIS'].to_numpy()"
   ]
  },
  {
   "cell_type": "markdown",
   "metadata": {},
   "source": [
    "### 1.3.3. Visualization of the data with PCA\n",
    "\n",
    "Much more clear when looking at high-dimensional data with PCA."
   ]
  },
  {
   "cell_type": "code",
   "execution_count": 9,
   "metadata": {},
   "outputs": [
    {
     "data": {
      "image/png": "[encoded data removed]",
      "text/plain": [
       "<Figure size 504x360 with 1 Axes>"
      ]
     },
     "metadata": {},
     "output_type": "display_data"
    }
   ],
   "source": [
    "pca_visual(X_data, Y_data, {0:'ALL',1:'AML'})    "
   ]
  },
  {
   "cell_type": "markdown",
   "metadata": {},
   "source": [
    "## 2. Dimensionality Reduction"
   ]
  },
  {
   "cell_type": "markdown",
   "metadata": {},
   "source": [
    "The number of features (genes) is extremely high when compared to the number of objects to cluster (patients). In this context, we are going to perform dimensionality reduction, that is, reduce the number of features, in two ways:\n",
    "\n",
    "* [**Removing features with low variance**](http://scikit-learn.org/stable/modules/feature_selection.html) \n",
    "\n",
    "* [**Using Principal Component Analysis**](http://scikit-learn.org/stable/modules/generated/sklearn.decomposition.PCA.html)"
   ]
  },
  {
   "cell_type": "markdown",
   "metadata": {},
   "source": [
    "### 2.1. Removing features with low variance\n",
    "\n",
    "If the variance is zero, it means that the feature is constant and will not improve the performance of the model, that is why it is going to be removed."
   ]
  },
  {
   "cell_type": "code",
   "execution_count": 10,
   "metadata": {},
   "outputs": [
    {
     "data": {
      "text/plain": [
       "(72, 5147)"
      ]
     },
     "execution_count": 10,
     "metadata": {},
     "output_type": "execute_result"
    }
   ],
   "source": [
    "sel = VarianceThreshold(threshold=0)\n",
    "X_variance = sel.fit_transform(X_data)\n",
    "X_variance.shape"
   ]
  },
  {
   "cell_type": "markdown",
   "metadata": {},
   "source": [
    "Removed just one feature resulting in 5147 total features(genes)."
   ]
  },
  {
   "cell_type": "markdown",
   "metadata": {},
   "source": [
    "### 2.2. Using Principal Component Analysis\n",
    "\n",
    "by using PCA on the X_data we can create an artificial feature through a linear combination of the original features. In the end, all the features in the projected dataset are called principal components. For this exercise we are selecting 71 (number of patients - 1) components.  "
   ]
  },
  {
   "cell_type": "code",
   "execution_count": 11,
   "metadata": {},
   "outputs": [
    {
     "data": {
      "text/plain": [
       "PCA(copy=True, iterated_power='auto', n_components=71, random_state=None,\n",
       "  svd_solver='auto', tol=0.0, whiten=False)"
      ]
     },
     "execution_count": 11,
     "metadata": {},
     "output_type": "execute_result"
    },
    {
     "data": {
      "text/plain": [
       "(72, 71)"
      ]
     },
     "execution_count": 11,
     "metadata": {},
     "output_type": "execute_result"
    }
   ],
   "source": [
    "pca = PCA(n_components=len(X_data)-1) \n",
    "pca.fit(X_data)\n",
    "X_PCA = pca.transform(X_data)      \n",
    "X_PCA.shape"
   ]
  },
  {
   "cell_type": "code",
   "execution_count": 12,
   "metadata": {},
   "outputs": [
    {
     "data": {
      "text/plain": [
       "<Figure size 432x288 with 0 Axes>"
      ]
     },
     "execution_count": 12,
     "metadata": {},
     "output_type": "execute_result"
    },
    {
     "data": {
      "text/plain": [
       "[<matplotlib.lines.Line2D at 0x7f773860ca58>]"
      ]
     },
     "execution_count": 12,
     "metadata": {},
     "output_type": "execute_result"
    },
    {
     "data": {
      "text/plain": [
       "Text(0.5, 0, 'Number of Components')"
      ]
     },
     "execution_count": 12,
     "metadata": {},
     "output_type": "execute_result"
    },
    {
     "data": {
      "text/plain": [
       "Text(0, 0.5, 'Variance (%)')"
      ]
     },
     "execution_count": 12,
     "metadata": {},
     "output_type": "execute_result"
    },
    {
     "data": {
      "image/png": "[encoded data removed]",
      "text/plain": [
       "<Figure size 432x288 with 1 Axes>"
      ]
     },
     "metadata": {
      "needs_background": "light"
     },
     "output_type": "display_data"
    }
   ],
   "source": [
    "plt.figure()\n",
    "plt.plot(np.cumsum(pca.explained_variance_ratio_))\n",
    "plt.xlabel('Number of Components')\n",
    "plt.ylabel('Variance (%)') #for each component\n",
    "plt.show()"
   ]
  },
  {
   "cell_type": "markdown",
   "metadata": {},
   "source": [
    "As shown in the previous plot the 71 components preserve almost 100% of the total data variance."
   ]
  },
  {
   "cell_type": "markdown",
   "metadata": {},
   "source": [
    "## 3. Clustering Patients using Partitional Clustering"
   ]
  },
  {
   "cell_type": "markdown",
   "metadata": {},
   "source": [
    "Testing the **`K`-means** to cluster the patients.\n",
    "\n",
    "**“How does the k-means algorithm work?”** The k-means algorithm defines the centroid of a cluster as the mean value of the points within the cluster. It proceeds as follows. First, it randomly selects k of the objects in D, each of which initially represents a cluster mean or center. For each of the remaining objects, an object is assigned to the cluster to which it is the most similar, based on the Euclidean distance between the object and the cluster mean. The k-means algorithm then iteratively improves the within-cluster variation. For each cluster, it computes the new mean using the objects assigned to the cluster in the previous iteration. All the objects are then reassigned using the updated means as the new cluster centers. The iterations continue until the assignment is stable, that is, the clusters formed in the current round are the same as those formed in the previous round."
   ]
  },
  {
   "cell_type": "markdown",
   "metadata": {},
   "source": [
    "In order to evaluate this cluster methodology we are going to test different values of K. For each value of K we are going to present the clustering by specifying how many patients ALL and AML are in each cluster but also the [Silhouette score](http://scikit-learn.org/stable/modules/generated/sklearn.metrics.silhouette_score.html) to access the best K.\n",
    "\n",
    "Finally we are going to compare the data from the three datasets (original data, after removing features with low variance and after applying PCA)"
   ]
  },
  {
   "cell_type": "markdown",
   "metadata": {},
   "source": [
    "### 3.1 Cluster the original data"
   ]
  },
  {
   "cell_type": "code",
   "execution_count": 13,
   "metadata": {},
   "outputs": [
    {
     "name": "stdout",
     "output_type": "stream",
     "text": [
      "For n_clusters = 2 The average silhouette_score is : 0.1196273422807807\n",
      "\n",
      " class predict :  32.0 %\n",
      "\n",
      "\n",
      " class predict : \n",
      "           ALL  AML\n",
      "clusters          \n",
      "0          10   12\n",
      "1          37   13 \n",
      "\n",
      "For n_clusters = 3 The average silhouette_score is : 0.08533901103409998\n",
      "\n",
      " class predict :  49.0 %\n",
      "\n",
      "\n",
      " class predict : \n",
      "           ALL  AML\n",
      "clusters          \n",
      "0          17    1\n",
      "1           4   18\n",
      "2          26    6 \n",
      "\n",
      "For n_clusters = 4 The average silhouette_score is : 0.029093075040779848\n",
      "\n",
      " class predict :  46.0 %\n",
      "\n",
      "\n",
      " class predict : \n",
      "           ALL  AML\n",
      "clusters          \n",
      "0          17    6\n",
      "1           4   16\n",
      "2          10    0\n",
      "3          16    3 \n",
      "\n",
      "For n_clusters = 5 The average silhouette_score is : 0.07191240509706927\n",
      "\n",
      " class predict :  26.0 %\n",
      "\n",
      "\n",
      " class predict : \n",
      "           ALL  AML\n",
      "clusters          \n",
      "0          18    1\n",
      "1           4    1\n",
      "2           0   16\n",
      "3           1    0\n",
      "4          24    7 \n",
      "\n",
      "For n_clusters = 6 The average silhouette_score is : 0.0410742740141122\n",
      "\n",
      " class predict :  33.0 %\n",
      "\n",
      "\n",
      " class predict : \n",
      "           ALL  AML\n",
      "clusters          \n",
      "0          10    5\n",
      "1           0   14\n",
      "2           6    1\n",
      "3           4    0\n",
      "4           8    0\n",
      "5          19    5 \n",
      "\n",
      "The best silloutte was achieved in  K-means with k=2  and the best accuracy was achieved in  K-means with k=3\n"
     ]
    }
   ],
   "source": [
    "#Calculate the Silhouette score and how many patients originally with ALL and AML are in each cluster.\n",
    "df_k_or, df_clus_sis, df_clus_acc = cluster(X_data, Y_data)"
   ]
  },
  {
   "cell_type": "markdown",
   "metadata": {},
   "source": [
    "### 3.2 Cluster the low variance data"
   ]
  },
  {
   "cell_type": "code",
   "execution_count": 14,
   "metadata": {},
   "outputs": [
    {
     "name": "stdout",
     "output_type": "stream",
     "text": [
      "For n_clusters = 2 The average silhouette_score is : 0.1196273422807807\n",
      "\n",
      " class predict :  32.0 %\n",
      "\n",
      "\n",
      " class predict : \n",
      "           ALL  AML\n",
      "clusters          \n",
      "0          10   12\n",
      "1          37   13 \n",
      "\n",
      "For n_clusters = 3 The average silhouette_score is : 0.08533901103409998\n",
      "\n",
      " class predict :  49.0 %\n",
      "\n",
      "\n",
      " class predict : \n",
      "           ALL  AML\n",
      "clusters          \n",
      "0          17    1\n",
      "1           4   18\n",
      "2          26    6 \n",
      "\n",
      "For n_clusters = 4 The average silhouette_score is : 0.029093075040779848\n",
      "\n",
      " class predict :  46.0 %\n",
      "\n",
      "\n",
      " class predict : \n",
      "           ALL  AML\n",
      "clusters          \n",
      "0          17    6\n",
      "1           4   16\n",
      "2          10    0\n",
      "3          16    3 \n",
      "\n",
      "For n_clusters = 5 The average silhouette_score is : 0.07191240509706927\n",
      "\n",
      " class predict :  26.0 %\n",
      "\n",
      "\n",
      " class predict : \n",
      "           ALL  AML\n",
      "clusters          \n",
      "0          18    1\n",
      "1           4    1\n",
      "2           0   16\n",
      "3           1    0\n",
      "4          24    7 \n",
      "\n",
      "For n_clusters = 6 The average silhouette_score is : 0.0410742740141122\n",
      "\n",
      " class predict :  33.0 %\n",
      "\n",
      "\n",
      " class predict : \n",
      "           ALL  AML\n",
      "clusters          \n",
      "0          10    5\n",
      "1           0   14\n",
      "2           6    1\n",
      "3           4    0\n",
      "4           8    0\n",
      "5          19    5 \n",
      "\n",
      "The best silloutte was achieved in  K-means with k=2  and the best accuracy was achieved in  K-means with k=3\n"
     ]
    }
   ],
   "source": [
    "df_k_var, df_clus_sis, df_clus_acc  = cluster(X_variance, Y_data, data='var')"
   ]
  },
  {
   "cell_type": "markdown",
   "metadata": {},
   "source": [
    "### 3.3 Cluster the PCA data"
   ]
  },
  {
   "cell_type": "code",
   "execution_count": 15,
   "metadata": {},
   "outputs": [
    {
     "name": "stdout",
     "output_type": "stream",
     "text": [
      "For n_clusters = 2 The average silhouette_score is : 0.1196273422807807\n",
      "\n",
      " class predict :  32.0 %\n",
      "\n",
      "\n",
      " class predict : \n",
      "           ALL  AML\n",
      "clusters          \n",
      "0          10   12\n",
      "1          37   13 \n",
      "\n",
      "For n_clusters = 3 The average silhouette_score is : 0.08533901103409999\n",
      "\n",
      " class predict :  49.0 %\n",
      "\n",
      "\n",
      " class predict : \n",
      "           ALL  AML\n",
      "clusters          \n",
      "0          17    1\n",
      "1           4   18\n",
      "2          26    6 \n",
      "\n",
      "For n_clusters = 4 The average silhouette_score is : 0.029093075040779817\n",
      "\n",
      " class predict :  46.0 %\n",
      "\n",
      "\n",
      " class predict : \n",
      "           ALL  AML\n",
      "clusters          \n",
      "0          17    6\n",
      "1           4   16\n",
      "2          10    0\n",
      "3          16    3 \n",
      "\n",
      "For n_clusters = 5 The average silhouette_score is : 0.07191240509706935\n",
      "\n",
      " class predict :  26.0 %\n",
      "\n",
      "\n",
      " class predict : \n",
      "           ALL  AML\n",
      "clusters          \n",
      "0          18    1\n",
      "1           4    1\n",
      "2           0   16\n",
      "3           1    0\n",
      "4          24    7 \n",
      "\n",
      "For n_clusters = 6 The average silhouette_score is : 0.041074274014112205\n",
      "\n",
      " class predict :  33.0 %\n",
      "\n",
      "\n",
      " class predict : \n",
      "           ALL  AML\n",
      "clusters          \n",
      "0          10    5\n",
      "1           0   14\n",
      "2           6    1\n",
      "3           4    0\n",
      "4           8    0\n",
      "5          19    5 \n",
      "\n",
      "The best silloutte was achieved in  K-means with k=2  and the best accuracy was achieved in  K-means with k=3\n"
     ]
    }
   ],
   "source": [
    "df_k_pca, df_clus_sis, df_clus_acc  = cluster(X_PCA, Y_data, data='pca')"
   ]
  },
  {
   "cell_type": "markdown",
   "metadata": {},
   "source": [
    "**Comparison between original data and data that suffered some sort of dimensionality reduction with different clusters**"
   ]
  },
  {
   "cell_type": "code",
   "execution_count": 16,
   "metadata": {},
   "outputs": [
    {
     "data": {
      "text/html": [
       "<div>\n",
       "<style scoped>\n",
       "    .dataframe tbody tr th:only-of-type {\n",
       "        vertical-align: middle;\n",
       "    }\n",
       "\n",
       "    .dataframe tbody tr th {\n",
       "        vertical-align: top;\n",
       "    }\n",
       "\n",
       "    .dataframe thead th {\n",
       "        text-align: right;\n",
       "    }\n",
       "</style>\n",
       "<table border=\"1\" class=\"dataframe\">\n",
       "  <thead>\n",
       "    <tr style=\"text-align: right;\">\n",
       "      <th></th>\n",
       "      <th>K-means_orig</th>\n",
       "      <th>K-means_var</th>\n",
       "      <th>K-means_pca</th>\n",
       "    </tr>\n",
       "  </thead>\n",
       "  <tbody>\n",
       "    <tr>\n",
       "      <th>2</th>\n",
       "      <td>0.119627</td>\n",
       "      <td>0.119627</td>\n",
       "      <td>0.119627</td>\n",
       "    </tr>\n",
       "    <tr>\n",
       "      <th>3</th>\n",
       "      <td>0.085339</td>\n",
       "      <td>0.085339</td>\n",
       "      <td>0.085339</td>\n",
       "    </tr>\n",
       "    <tr>\n",
       "      <th>4</th>\n",
       "      <td>0.029093</td>\n",
       "      <td>0.029093</td>\n",
       "      <td>0.029093</td>\n",
       "    </tr>\n",
       "    <tr>\n",
       "      <th>5</th>\n",
       "      <td>0.071912</td>\n",
       "      <td>0.071912</td>\n",
       "      <td>0.071912</td>\n",
       "    </tr>\n",
       "    <tr>\n",
       "      <th>6</th>\n",
       "      <td>0.041074</td>\n",
       "      <td>0.041074</td>\n",
       "      <td>0.041074</td>\n",
       "    </tr>\n",
       "  </tbody>\n",
       "</table>\n",
       "</div>"
      ],
      "text/plain": [
       "   K-means_orig  K-means_var  K-means_pca\n",
       "2      0.119627     0.119627     0.119627\n",
       "3      0.085339     0.085339     0.085339\n",
       "4      0.029093     0.029093     0.029093\n",
       "5      0.071912     0.071912     0.071912\n",
       "6      0.041074     0.041074     0.041074"
      ]
     },
     "execution_count": 16,
     "metadata": {},
     "output_type": "execute_result"
    }
   ],
   "source": [
    "dfs_k = pd.concat([df_k_or, df_k_var, df_k_pca], axis=1)\n",
    "dfs_k"
   ]
  },
  {
   "cell_type": "code",
   "execution_count": 17,
   "metadata": {},
   "outputs": [
    {
     "data": {
      "text/plain": [
       "[Text(0, 0.5, 'Silhouette score'), Text(0.5, 0, 'Nº Clusters')]"
      ]
     },
     "execution_count": 17,
     "metadata": {},
     "output_type": "execute_result"
    },
    {
     "data": {
      "image/png": "[encoded data removed]",
      "text/plain": [
       "<Figure size 432x288 with 1 Axes>"
      ]
     },
     "metadata": {
      "needs_background": "light"
     },
     "output_type": "display_data"
    }
   ],
   "source": [
    "ax= sns.lineplot(data=dfs_k)\n",
    "ax.set(xlabel='Nº Clusters', ylabel='Silhouette score')"
   ]
  },
  {
   "cell_type": "markdown",
   "metadata": {},
   "source": [
    "**If we have ground truth we can compare the original data with the clustered data**"
   ]
  },
  {
   "cell_type": "code",
   "execution_count": 18,
   "metadata": {},
   "outputs": [
    {
     "data": {
      "image/png": "[encoded data removed]",
      "text/plain": [
       "<Figure size 1080x360 with 2 Axes>"
      ]
     },
     "metadata": {},
     "output_type": "display_data"
    }
   ],
   "source": [
    "pca_visual(X_data, Y_data,{0:'ALL',1:'AML'}, True, df_clus_sis['clusters'])"
   ]
  },
  {
   "cell_type": "markdown",
   "metadata": {},
   "source": [
    "### 3.4. Discussion\n",
    "\n",
    "Since, principal components analysis (transform or project the original data onto a smaller space) and attribute subset selection based on variance  (removes irrelevant, weakly relevant, or redundant attributes) retain the original information from the original dataset but with less space we didn't have any difference between datasets when doing k-means. Probably due to the fact that the distances between all points stay exactly the same.\n",
    "\n",
    "Best performance was obtained for 2 clusters in every dataset with values of 0.119627, which makes sense because the dataset is based on two classes.\n",
    "\n",
    "The data also shows that the performance of this algorithm is directly inverse with the increase in the number of clusters, with the exception of 5 clusters, again makes sense for what I've said before.\n",
    "\n",
    "Although, the best performance was with 2 clusters, we see an improved resolution of the two classes with 3 clusters. \n",
    "\n",
    "k-means continues to be one of the simplest and most used clustering algorithms. However, it fails in terms of performance if the initial parameters are not correct (like the number of clusters) or if there is a lot of noise in the data."
   ]
  },
  {
   "cell_type": "markdown",
   "metadata": {},
   "source": [
    "## 4. Clustering Patients using Hierarchical Clustering\n"
   ]
  },
  {
   "cell_type": "markdown",
   "metadata": {},
   "source": [
    "Using **Hierarchical Clustering Algorithm (HCA)** to cluster the patients. \n",
    "\n",
    "**A hierarchical method** creates a hierarchical decomposition of the given set of data objects. The method can be classified as being either agglomerative (bottom-up) or divisive (top-down), based on how the hierarchical decomposition is formed."
   ]
  },
  {
   "cell_type": "markdown",
   "metadata": {},
   "source": [
    "### 4.1. Cluster the data in PCA"
   ]
  },
  {
   "cell_type": "code",
   "execution_count": 19,
   "metadata": {},
   "outputs": [
    {
     "name": "stdout",
     "output_type": "stream",
     "text": [
      "Linkage parameter = single \n",
      "\n",
      "For n_clusters = 2 The average silhouette_score is : 0.29777744339223516\n",
      "\n",
      " class predict :  64.0 %\n",
      "\n",
      "\n",
      " class predict : \n",
      "           ALL  AML\n",
      "clusters          \n",
      "0          46   25\n",
      "1           1    0 \n",
      "\n",
      "For n_clusters = 3 The average silhouette_score is : 0.28604265271366813\n",
      "\n",
      " class predict :  64.0 %\n",
      "\n",
      "\n",
      " class predict : \n",
      "           ALL  AML\n",
      "clusters          \n",
      "0          46   24\n",
      "1           1    0\n",
      "2           0    1 \n",
      "\n",
      "For n_clusters = 4 The average silhouette_score is : 0.2871001347963654\n",
      "\n",
      " class predict :  62.0 %\n",
      "\n",
      "\n",
      " class predict : \n",
      "           ALL  AML\n",
      "clusters          \n",
      "0          45   24\n",
      "1           1    0\n",
      "2           0    1\n",
      "3           1    0 \n",
      "\n",
      "For n_clusters = 5 The average silhouette_score is : 0.1827089063470052\n",
      "\n",
      " class predict :  64.0 %\n",
      "\n",
      "\n",
      " class predict : \n",
      "           ALL  AML\n",
      "clusters          \n",
      "0          45   23\n",
      "1           0    1\n",
      "2           0    1\n",
      "3           1    0\n",
      "4           1    0 \n",
      "\n",
      "For n_clusters = 6 The average silhouette_score is : 0.09811521050928527\n",
      "\n",
      " class predict :  62.0 %\n",
      "\n",
      "\n",
      " class predict : \n",
      "           ALL  AML\n",
      "clusters          \n",
      "0          44   23\n",
      "1           0    1\n",
      "2           0    1\n",
      "3           1    0\n",
      "4           1    0\n",
      "5           1    0 \n",
      "\n",
      "Linkage parameter = average \n",
      "\n",
      "For n_clusters = 2 The average silhouette_score is : 0.3421954725804177\n",
      "\n",
      " class predict :  64.0 %\n",
      "\n",
      "\n",
      " class predict : \n",
      "           ALL  AML\n",
      "clusters          \n",
      "0          46   25\n",
      "1           1    0 \n",
      "\n",
      "For n_clusters = 3 The average silhouette_score is : 0.2985859335935332\n",
      "\n",
      " class predict :  62.0 %\n",
      "\n",
      "\n",
      " class predict : \n",
      "           ALL  AML\n",
      "clusters          \n",
      "0          45   25\n",
      "1           1    0\n",
      "2           1    0 \n",
      "\n",
      "For n_clusters = 4 The average silhouette_score is : 0.2871001347963654\n",
      "\n",
      " class predict :  64.0 %\n",
      "\n",
      "\n",
      " class predict : \n",
      "           ALL  AML\n",
      "clusters          \n",
      "0          45   24\n",
      "1           0    1\n",
      "2           1    0\n",
      "3           1    0 \n",
      "\n",
      "For n_clusters = 5 The average silhouette_score is : 0.1398111139140341\n",
      "\n",
      " class predict :  60.0 %\n",
      "\n",
      "\n",
      " class predict : \n",
      "           ALL  AML\n",
      "clusters          \n",
      "0          43   24\n",
      "1           2    0\n",
      "2           1    0\n",
      "3           1    0\n",
      "4           0    1 \n",
      "\n",
      "For n_clusters = 6 The average silhouette_score is : 0.09849148518628033\n",
      "\n",
      " class predict :  57.99999999999999 %\n",
      "\n",
      "\n",
      " class predict : \n",
      "           ALL  AML\n",
      "clusters          \n",
      "0          42   24\n",
      "1           2    0\n",
      "2           1    0\n",
      "3           1    0\n",
      "4           0    1\n",
      "5           1    0 \n",
      "\n",
      "Linkage parameter = complete \n",
      "\n",
      "For n_clusters = 2 The average silhouette_score is : 0.3271584495986458\n",
      "\n",
      " class predict :  62.0 %\n",
      "\n",
      "\n",
      " class predict : \n",
      "           ALL  AML\n",
      "clusters          \n",
      "0          45   25\n",
      "1           2    0 \n",
      "\n",
      "For n_clusters = 3 The average silhouette_score is : 0.2938506584554207\n",
      "\n",
      " class predict :  62.0 %\n",
      "\n",
      "\n",
      " class predict : \n",
      "           ALL  AML\n",
      "clusters          \n",
      "0          45   24\n",
      "1           2    0\n",
      "2           0    1 \n",
      "\n",
      "For n_clusters = 4 The average silhouette_score is : 0.05058790821693275\n",
      "\n",
      " class predict :  28.999999999999996 %\n",
      "\n",
      "\n",
      " class predict : \n",
      "           ALL  AML\n",
      "clusters          \n",
      "0           2    0\n",
      "1          26   19\n",
      "2           0    1\n",
      "3          19    5 \n",
      "\n",
      "For n_clusters = 5 The average silhouette_score is : 0.0504040578573276\n",
      "\n",
      " class predict :  43.0 %\n",
      "\n",
      "\n",
      " class predict : \n",
      "           ALL  AML\n",
      "clusters          \n",
      "0          26   19\n",
      "1          19    5\n",
      "2           0    1\n",
      "3           1    0\n",
      "4           1    0 \n",
      "\n",
      "For n_clusters = 6 The average silhouette_score is : 0.025996298893444212\n",
      "\n",
      " class predict :  28.999999999999996 %\n",
      "\n",
      "\n",
      " class predict : \n",
      "           ALL  AML\n",
      "clusters          \n",
      "0          16    9\n",
      "1          19    5\n",
      "2          10   10\n",
      "3           1    0\n",
      "4           1    0\n",
      "5           0    1 \n",
      "\n",
      "Linkage parameter = ward \n",
      "\n",
      "For n_clusters = 2 The average silhouette_score is : 0.08716097387018015\n",
      "\n",
      " class predict :  75.0 %\n",
      "\n",
      "\n",
      " class predict : \n",
      "           ALL  AML\n",
      "clusters          \n",
      "0          35    6\n",
      "1          12   19 \n",
      "\n",
      "For n_clusters = 3 The average silhouette_score is : 0.08322272340165099\n",
      "\n",
      " class predict :  17.0 %\n",
      "\n",
      "\n",
      " class predict : \n",
      "           ALL  AML\n",
      "clusters          \n",
      "0          12   19\n",
      "1           8    0\n",
      "2          27    6 \n",
      "\n",
      "For n_clusters = 4 The average silhouette_score is : 0.08123033078427638\n",
      "\n",
      " class predict :  28.999999999999996 %\n",
      "\n",
      "\n",
      " class predict : \n",
      "           ALL  AML\n",
      "clusters          \n",
      "0           3    1\n",
      "1           9   18\n",
      "2          27    6\n",
      "3           8    0 \n",
      "\n",
      "For n_clusters = 5 The average silhouette_score is : 0.08491590197157375\n",
      "\n",
      " class predict :  12.0 %\n",
      "\n",
      "\n",
      " class predict : \n",
      "           ALL  AML\n",
      "clusters          \n",
      "0           9   18\n",
      "1           8    0\n",
      "2          27    6\n",
      "3           3    0\n",
      "4           0    1 \n",
      "\n",
      "For n_clusters = 6 The average silhouette_score is : 0.0761556841703116\n",
      "\n",
      " class predict :  11.0 %\n",
      "\n",
      "\n",
      " class predict : \n",
      "           ALL  AML\n",
      "clusters          \n",
      "0           8    0\n",
      "1           3    0\n",
      "2          27    6\n",
      "3           0    9\n",
      "4           0    1\n",
      "5           9    9 \n",
      "\n",
      "The best silloutte was achieved in  Hierarchical average with k=2  and the best accuracy was achieved in  Hierarchical ward with k=2\n"
     ]
    }
   ],
   "source": [
    "df_h_pca, df_clus_sis, df_clus_acc = cluster(X_PCA, Y_data, cluster_type='Hierarchical',  data='pca')"
   ]
  },
  {
   "cell_type": "markdown",
   "metadata": {},
   "source": [
    "**Comparison between differnt types of linkages and clusters in the silloutte score**"
   ]
  },
  {
   "cell_type": "code",
   "execution_count": 20,
   "metadata": {},
   "outputs": [
    {
     "data": {
      "text/plain": [
       "[Text(0, 0.5, 'Silhouette score'), Text(0.5, 0, 'Nº Clusters')]"
      ]
     },
     "execution_count": 20,
     "metadata": {},
     "output_type": "execute_result"
    },
    {
     "data": {
      "image/png": "[encoded data removed]",
      "text/plain": [
       "<Figure size 432x288 with 1 Axes>"
      ]
     },
     "metadata": {
      "needs_background": "light"
     },
     "output_type": "display_data"
    }
   ],
   "source": [
    "ax = sns.lineplot(data=df_h_pca)\n",
    "ax.set(xlabel='Nº Clusters', ylabel='Silhouette score')"
   ]
  },
  {
   "cell_type": "markdown",
   "metadata": {},
   "source": [
    "**If we have ground truth we can compare the original data with the clustered data**"
   ]
  },
  {
   "cell_type": "markdown",
   "metadata": {},
   "source": [
    "for the best Silhouette score"
   ]
  },
  {
   "cell_type": "code",
   "execution_count": 21,
   "metadata": {},
   "outputs": [
    {
     "data": {
      "image/png": "[encoded data removed]",
      "text/plain": [
       "<Figure size 1080x360 with 2 Axes>"
      ]
     },
     "metadata": {},
     "output_type": "display_data"
    }
   ],
   "source": [
    "pca_visual(X_data, Y_data,{0:'ALL',1:'AML'}, True, df_clus_sis['clusters'])"
   ]
  },
  {
   "cell_type": "markdown",
   "metadata": {},
   "source": [
    "for the best accuracy score"
   ]
  },
  {
   "cell_type": "code",
   "execution_count": 22,
   "metadata": {},
   "outputs": [
    {
     "data": {
      "image/png": "[encoded data removed]",
      "text/plain": [
       "<Figure size 1080x360 with 2 Axes>"
      ]
     },
     "metadata": {},
     "output_type": "display_data"
    }
   ],
   "source": [
    "pca_visual(X_data, Y_data,{0:'ALL',1:'AML'}, True, df_clus_acc['clusters'])"
   ]
  },
  {
   "cell_type": "markdown",
   "metadata": {},
   "source": [
    "### Discussion \n",
    "\n",
    "HC algorithm is one of the earliest clustering algorithms used in clustering genes.\n",
    "\n",
    "Due to the same reasons already mentioned the best cluster performances are again with 2 clusters. Regarding the best silloutte result, the best is the linkage type average with 2 clusters with values of 0.342195 in Silhouette score. However, when plotting the data we can see that the patients are only in the majority class of cancer. \n",
    "\n",
    "The best resolution of the two types of cancer was obtained with the ward method and 2 clusters as we can see by the figures above. It predicts with 75.0 % the type of cancer."
   ]
  }
 ],
 "metadata": {
  "kernelspec": {
   "display_name": "Python 3",
   "language": "python",
   "name": "python3"
  },
  "language_info": {
   "codemirror_mode": {
    "name": "ipython",
    "version": 3
   },
   "file_extension": ".py",
   "mimetype": "text/x-python",
   "name": "python",
   "nbconvert_exporter": "python",
   "pygments_lexer": "ipython3",
   "version": "3.7.3"
  },
  "toc-autonumbering": false,
  "toc-showcode": true,
  "toc-showmarkdowntxt": true
 },
 "nbformat": 4,
 "nbformat_minor": 2
}
